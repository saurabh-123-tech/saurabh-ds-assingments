{
 "cells": [
  {
   "cell_type": "raw",
   "id": "c6f988ab-581c-4efd-b0ea-e9383bbacb87",
   "metadata": {},
   "source": [
    "Q1. Discuss string slicing and provide examples.\n",
    "\n",
    "In Python, strings are a fundamental data type used to represent text. Strings are sequences of characters enclosed in quotes, and they support a variety of operations and methods. One of the powerful features of strings is slicing, which allows us to extract substrings or manipulate string data efficiently.\n",
    "\n",
    "Strings\n",
    "A string in Python can be created by enclosing text in single quotes ('...'), double quotes (\"...\"), or triple quotes ('''...''' or \"\"\"...\"\"\") for multi-line strings."
   ]
  },
  {
   "cell_type": "code",
   "execution_count": null,
   "id": "7805fe12-1624-4b06-8def-1b97ba695037",
   "metadata": {},
   "outputs": [],
   "source": [
    "# Creating strings\n",
    "single_quote_str = 'Hello, World!'\n",
    "double_quote_str = \"Python is fun.\"\n",
    "triple_quote_str = '''This is a \n",
    "multi-line string.'''\n",
    "\n",
    "# Printing strings\n",
    "print(single_quote_str)\n",
    "print(double_quote_str)\n",
    "print(triple_quote_str)\n"
   ]
  },
  {
   "cell_type": "raw",
   "id": "4a46097a-1803-43d1-af13-40816f6c55f6",
   "metadata": {},
   "source": [
    "String Methods\n",
    "Strings come with a variety of built-in methods that allow us to perform operations like changing case, finding substrings, and more.\n",
    "\n"
   ]
  },
  {
   "cell_type": "code",
   "execution_count": null,
   "id": "878aab87-e8f9-4472-9547-cfdca47555ed",
   "metadata": {},
   "outputs": [],
   "source": [
    "# Converting to uppercase\n",
    "uppercase_str = single_quote_str.upper()\n",
    "\n",
    "# Finding a substring\n",
    "index_of_world = single_quote_str.find('World')\n",
    "\n",
    "# Replacing text\n",
    "replaced_str = single_quote_str.replace('World', 'Python')\n",
    "\n",
    "print(uppercase_str)  # Output: HELLO, WORLD!\n",
    "print(index_of_world)  # Output: 7\n",
    "print(replaced_str)  # Output: Hello, Python!\n"
   ]
  },
  {
   "cell_type": "raw",
   "id": "ff9758ec-51c4-4bc9-9e31-dd4991363101",
   "metadata": {},
   "source": [
    "Slicing\n",
    "Slicing allows you to extract a portion of a string using a specified range. The general syntax for slicing is string[start:stop:step].\n",
    "\n",
    "Syntax\n",
    "start: The starting index of the slice (inclusive).\n",
    "stop: The ending index of the slice (exclusive).\n",
    "step: The step between each index (optional)."
   ]
  },
  {
   "cell_type": "code",
   "execution_count": null,
   "id": "e3a3f7bd-c380-4159-9938-88490b530149",
   "metadata": {},
   "outputs": [],
   "source": [
    "# Define a string\n",
    "sample_str = \"PythonProgramming\"\n",
    "\n",
    "# Slicing examples\n",
    "substring1 = sample_str[0:6]  # Extracts 'Python'\n",
    "substring2 = sample_str[7:]   # Extracts 'Programming'\n",
    "substring3 = sample_str[:6]   # Extracts 'Python'\n",
    "substring4 = sample_str[::2]  # Extracts 'PtoPormig'\n",
    "substring5 = sample_str[::-1] # Reverses the string 'gnimmargorPnohtyP'\n",
    "\n",
    "print(substring1)  # Output: Python\n",
    "print(substring2)  # Output: Programming\n",
    "print(substring3)  # Output: Python\n",
    "print(substring4)  # Output: PtoPormig\n",
    "print(substring5)  # Output: gnimmargorPnohtyP\n"
   ]
  },
  {
   "cell_type": "raw",
   "id": "599176bd-7f5c-44d7-8fb0-f203e70b9cad",
   "metadata": {},
   "source": [
    "Negative Indexing\n",
    "Python allows negative indexing, where -1 refers to the last character, -2 to the second-to-last, and so on.\n",
    "\n"
   ]
  },
  {
   "cell_type": "code",
   "execution_count": null,
   "id": "28673e9c-1f5a-4115-a0b7-112e84f1a522",
   "metadata": {},
   "outputs": [],
   "source": [
    "# Negative indexing examples\n",
    "last_char = sample_str[-1]       # Extracts 'g'\n",
    "last_three_chars = sample_str[-3:]  # Extracts 'ing'\n",
    "\n",
    "print(last_char)          # Output: g\n",
    "print(last_three_chars)  # Output: ing\n"
   ]
  },
  {
   "cell_type": "raw",
   "id": "ba6d6a29-b915-437b-bab9-5a7ca493ba16",
   "metadata": {},
   "source": [
    "Q2. Explain the key features of lists in python.\n",
    "\n",
    "In Python, a list is a built-in data structure that allows you to store a collection of items in a single variable. Lists are ordered, mutable, and can contain elements of different types, including other lists.\n",
    "\n",
    "Key Features\n",
    "1. Ordered\n",
    "Lists maintain the order of elements. The items in a list are indexed, starting from 0 for the first item, 1 for the second, and so on. This ordering allows for predictable access and manipulation of list elements."
   ]
  },
  {
   "cell_type": "code",
   "execution_count": null,
   "id": "95d6e916-4e84-4b9e-8e08-b89580ee1788",
   "metadata": {},
   "outputs": [],
   "source": [
    "# Creating a list\n",
    "my_list = [10, 20, 30, 40, 50]\n",
    "\n",
    "# Accessing elements by index\n",
    "first_element = my_list[0]   # Output: 10\n",
    "second_element = my_list[1]  # Output: 20\n",
    "\n",
    "print(first_element)\n",
    "print(second_element)\n"
   ]
  },
  {
   "cell_type": "raw",
   "id": "7bf8d22e-8179-4c54-ac1c-389c1e16872b",
   "metadata": {},
   "source": [
    "2. Mutable\n",
    "Lists are mutable, meaning that their contents can be changed after they are created. You can add, remove, or modify elements in a list."
   ]
  },
  {
   "cell_type": "code",
   "execution_count": null,
   "id": "3e38fc62-8277-43b6-abe3-6d1f1bc42cf2",
   "metadata": {},
   "outputs": [],
   "source": [
    "# Modifying elements\n",
    "my_list[2] = 35  # Change 30 to 35\n",
    "print(my_list)   # Output: [10, 20, 35, 40, 50]\n",
    "\n",
    "# Adding elements\n",
    "my_list.append(60)  # Add 60 to the end\n",
    "print(my_list)      # Output: [10, 20, 35, 40, 50, 60]\n",
    "\n",
    "# Removing elements\n",
    "my_list.remove(20)  # Remove 20 from the list\n",
    "print(my_list)      # Output: [10, 35, 40, 50, 60]\n"
   ]
  },
  {
   "cell_type": "raw",
   "id": "36036c48-1c8d-443b-a419-c6a7c90bfaec",
   "metadata": {},
   "source": [
    "3. Dynamic Size\n",
    "Lists can grow or shrink in size as needed. You can add elements to a list or remove elements from it, and the list will adjust its size accordingly."
   ]
  },
  {
   "cell_type": "code",
   "execution_count": null,
   "id": "409c88dd-fac3-4d72-9844-d441a1a7a01d",
   "metadata": {},
   "outputs": [],
   "source": [
    "# Adding elements\n",
    "my_list.extend([70, 80, 90])\n",
    "print(my_list)  # Output: [10, 35, 40, 50, 60, 70, 80, 90]\n",
    "\n",
    "# Removing elements\n",
    "my_list.pop()   # Remove the last element (90)\n",
    "print(my_list)  # Output: [10, 35, 40, 50, 60, 70, 80]\n"
   ]
  },
  {
   "cell_type": "raw",
   "id": "79430a11-f935-4077-95cb-944cf2c0e264",
   "metadata": {},
   "source": [
    "4. Allows Duplicates\n",
    "Lists can contain duplicate elements. The same value can appear more than once in a list."
   ]
  },
  {
   "cell_type": "code",
   "execution_count": null,
   "id": "51465735-ff62-493f-a861-7227ab5e4374",
   "metadata": {},
   "outputs": [],
   "source": [
    "# List with duplicates\n",
    "duplicate_list = [1, 2, 2, 3, 4, 4, 4, 5]\n",
    "print(duplicate_list)  # Output: [1, 2, 2, 3, 4, 4, 4, 5]\n"
   ]
  },
  {
   "cell_type": "raw",
   "id": "dde9f7c5-4518-4d15-ae0e-10bd03335f0f",
   "metadata": {},
   "source": [
    "5. Heterogeneous Elements\n",
    "Lists can hold elements of different data types, including integers, strings, floats, and even other lists."
   ]
  },
  {
   "cell_type": "code",
   "execution_count": null,
   "id": "6ac1d0ed-3984-4c54-a42f-e68b7be5d2bd",
   "metadata": {},
   "outputs": [],
   "source": [
    "# List with heterogeneous elements\n",
    "mixed_list = [1, \"hello\", 3.14, [1, 2, 3], True]\n",
    "print(mixed_list)  # Output: [1, 'hello', 3.14, [1, 2, 3], True]\n"
   ]
  },
  {
   "cell_type": "raw",
   "id": "624a7d6e-6117-4aa5-9d08-2e75acc36c59",
   "metadata": {},
   "source": [
    "6. Nested Lists\n",
    "Lists can be nested, meaning that a list can contain other lists as elements. This feature allows for the creation of multi-dimensional data structures."
   ]
  },
  {
   "cell_type": "code",
   "execution_count": null,
   "id": "a3f098cf-93c6-47bd-9c2d-847cdf31bda2",
   "metadata": {},
   "outputs": [],
   "source": [
    "# Nested list\n",
    "nested_list = [[1, 2, 3], [4, 5, 6], [7, 8, 9]]\n",
    "print(nested_list)  # Output: [[1, 2, 3], [4, 5, 6], [7, 8, 9]]\n",
    "\n",
    "# Accessing elements in nested lists\n",
    "print(nested_list[1][2])  # Output: 6\n"
   ]
  },
  {
   "cell_type": "raw",
   "id": "85446684-4277-448c-ab56-c37d64ddf8e7",
   "metadata": {},
   "source": [
    "7. List Operations\n",
    "Python lists support various operations such as concatenation, repetition, and slicing.\n",
    "\n"
   ]
  },
  {
   "cell_type": "code",
   "execution_count": null,
   "id": "d1b51f26-d42c-417e-975f-68926e4956c6",
   "metadata": {},
   "outputs": [],
   "source": [
    "# Concatenation\n",
    "list1 = [1, 2, 3]\n",
    "list2 = [4, 5, 6]\n",
    "concat_list = list1 + list2\n",
    "print(concat_list)  # Output: [1, 2, 3, 4, 5, 6]\n",
    "\n",
    "# Repetition\n",
    "repeated_list = list1 * 3\n",
    "print(repeated_list)  # Output: [1, 2, 3, 1, 2, 3, 1, 2, 3]\n",
    "\n",
    "# Slicing\n",
    "sliced_list = concat_list[1:5]\n",
    "print(sliced_list)  # Output: [2, 3, 4, 5]\n"
   ]
  },
  {
   "cell_type": "raw",
   "id": "a10eba06-bd3b-4ad5-a3e3-ec6c21e3fb03",
   "metadata": {},
   "source": [
    "Q3. Describe how to access, modify and delete elements in a list with examples.\n",
    "\n",
    "Accessing Elements\n",
    "You can access elements in a list using their index. Python uses zero-based indexing, meaning the first element has an index of 0."
   ]
  },
  {
   "cell_type": "code",
   "execution_count": null,
   "id": "3f3b3f72-5ec4-40a4-abf0-9b0b50182387",
   "metadata": {},
   "outputs": [],
   "source": [
    "# Define a list\n",
    "my_list = ['apple', 'banana', 'cherry', 'date', 'fig']\n",
    "\n",
    "# Access elements by index\n",
    "first_element = my_list[0]  # Output: 'apple'\n",
    "third_element = my_list[2]  # Output: 'cherry'\n",
    "\n",
    "# Access elements using negative indexing\n",
    "last_element = my_list[-1]  # Output: 'fig'\n",
    "second_to_last_element = my_list[-2]  # Output: 'date'\n",
    "\n",
    "print(\"First element:\", first_element)\n",
    "print(\"Third element:\", third_element)\n",
    "print(\"Last element:\", last_element)\n",
    "print(\"Second to last element:\", second_to_last_element)\n"
   ]
  },
  {
   "cell_type": "raw",
   "id": "c6b8a568-33f9-43b2-9efb-2b568b8c479e",
   "metadata": {},
   "source": [
    "Modifying Elements\n",
    "Lists are mutable, which means you can change their elements. You modify an element by accessing it using its index and then assigning a new value."
   ]
  },
  {
   "cell_type": "code",
   "execution_count": null,
   "id": "820f8ab3-424f-4abd-9f66-d18d2ea0b056",
   "metadata": {},
   "outputs": [],
   "source": [
    "# Define a list\n",
    "my_list = [10, 20, 30, 40, 50]\n",
    "\n",
    "# Modify elements\n",
    "my_list[1] = 25  # Change 20 to 25\n",
    "my_list[3] = 45  # Change 40 to 45\n",
    "\n",
    "print(\"Modified list:\", my_list)  # Output: [10, 25, 30, 45, 50]\n"
   ]
  },
  {
   "cell_type": "raw",
   "id": "7a0738a3-dfa2-4f47-9557-6838ecc678d0",
   "metadata": {},
   "source": [
    "Modifying Multiple Elements\n",
    "You can also modify a range of elements using slicing."
   ]
  },
  {
   "cell_type": "code",
   "execution_count": null,
   "id": "5759ef14-b53d-4a67-9672-aa2cd36646b5",
   "metadata": {},
   "outputs": [],
   "source": [
    "# Define a list\n",
    "my_list = [1, 2, 3, 4, 5, 6, 7, 8, 9]\n",
    "\n",
    "# Modify a slice of the list\n",
    "my_list[2:5] = [100, 200, 300]\n",
    "\n",
    "print(\"Modified list:\", my_list)  # Output: [1, 2, 100, 200, 300, 6, 7, 8, 9]\n"
   ]
  },
  {
   "cell_type": "raw",
   "id": "5dc0c3d2-44f4-4cd2-adfa-0fa142cc8751",
   "metadata": {},
   "source": [
    "Deleting Elements\n",
    "You can delete elements from a list using the del statement, the pop() method, or the remove() method.\n",
    "\n",
    "Deleting with del\n",
    "The del statement removes an element at a specified index."
   ]
  },
  {
   "cell_type": "code",
   "execution_count": null,
   "id": "44824d2f-c3ee-4b29-a103-c295efbb001e",
   "metadata": {},
   "outputs": [],
   "source": [
    "# Define a list\n",
    "my_list = ['apple', 'banana', 'cherry', 'date', 'fig']\n",
    "\n",
    "# Delete an element by index\n",
    "del my_list[1]  # Removes 'banana'\n",
    "\n",
    "print(\"List after deletion:\", my_list)  # Output: ['apple', 'cherry', 'date', 'fig']\n"
   ]
  },
  {
   "cell_type": "raw",
   "id": "60e2d613-9aef-4c4d-b1aa-fe2ea8df41bd",
   "metadata": {},
   "source": [
    "Deleting with pop()\n",
    "The pop() method removes and returns an element at a specified index. If no index is specified, it removes and returns the last element."
   ]
  },
  {
   "cell_type": "code",
   "execution_count": null,
   "id": "1eb84cc4-0745-44f8-a7a3-bdf4b3d41386",
   "metadata": {},
   "outputs": [],
   "source": [
    "# Define a list\n",
    "my_list = ['apple', 'banana', 'cherry', 'date', 'fig']\n",
    "\n",
    "# Remove and return the last element\n",
    "last_element = my_list.pop()\n",
    "print(\"Removed element:\", last_element)  # Output: 'fig'\n",
    "\n",
    "# Remove and return an element by index\n",
    "second_element = my_list.pop(1)  # Removes 'banana'\n",
    "print(\"Removed element:\", second_element)\n",
    "\n",
    "print(\"List after pop operations:\", my_list)  # Output: ['apple', 'cherry', 'date']\n"
   ]
  },
  {
   "cell_type": "raw",
   "id": "b753aed1-7ad7-41a9-aa7f-45076e333cb1",
   "metadata": {},
   "source": [
    "Deleting with remove()\n",
    "The remove() method removes the first occurrence of a specified value. If the value is not present, it raises a ValueError."
   ]
  },
  {
   "cell_type": "code",
   "execution_count": null,
   "id": "656b84d9-5e78-423d-ad18-b5206030102f",
   "metadata": {},
   "outputs": [],
   "source": [
    "# Define a list\n",
    "my_list = ['apple', 'banana', 'cherry', 'date', 'fig']\n",
    "\n",
    "# Remove a specific value\n",
    "my_list.remove('cherry')  # Removes 'cherry'\n",
    "\n",
    "print(\"List after removal:\", my_list)  # Output: ['apple', 'banana', 'date', 'fig']\n"
   ]
  },
  {
   "cell_type": "raw",
   "id": "c45df006-3816-4d29-97ff-2f48083223e8",
   "metadata": {},
   "source": [
    "Q4. Compare and contrast tuples and list with examples.\n",
    "\n",
    "Tuples and lists are both data structures in Python used for storing collections of items. Although they share some similarities, they have different characteristics and use cases.\n",
    "\n",
    "Lists\n",
    "Characteristics\n",
    "Mutable: Lists can be modified after creation. You can change, add, or remove elements.\n",
    "Ordered: Lists maintain the order of elements. Elements can be accessed by their index.\n",
    "Dynamic Size: Lists can grow or shrink in size as needed.\n",
    "Allows Duplicates: Lists can contain duplicate elements.\n",
    "Syntax: Lists are defined using square brackets []."
   ]
  },
  {
   "cell_type": "code",
   "execution_count": null,
   "id": "680fff6f-441a-4434-b64f-c3b9f8018fa8",
   "metadata": {},
   "outputs": [],
   "source": [
    "# Define a list\n",
    "my_list = [1, 2, 3, 4, 5]\n",
    "\n",
    "# Modify an element\n",
    "my_list[1] = 10\n",
    "print(\"Modified list:\", my_list)  # Output: [1, 10, 3, 4, 5]\n",
    "\n",
    "# Add an element\n",
    "my_list.append(6)\n",
    "print(\"List after appending:\", my_list)  # Output: [1, 10, 3, 4, 5, 6]\n",
    "\n",
    "# Remove an element\n",
    "my_list.remove(10)\n",
    "print(\"List after removal:\", my_list)  # Output: [1, 3, 4, 5, 6]\n"
   ]
  },
  {
   "cell_type": "raw",
   "id": "9ce49486-c8b3-491c-a19c-680365dfe1d2",
   "metadata": {},
   "source": [
    "Tuples\n",
    "Characteristics\n",
    "Immutable: Tuples cannot be modified after creation. You cannot change, add, or remove elements.\n",
    "Ordered: Tuples maintain the order of elements. Elements can be accessed by their index.\n",
    "Fixed Size: Tuples have a fixed size. Once created, their size cannot be changed.\n",
    "Allows Duplicates: Tuples can contain duplicate elements.\n",
    "Syntax: Tuples are defined using parentheses ()."
   ]
  },
  {
   "cell_type": "code",
   "execution_count": null,
   "id": "bc9c6c57-b369-4410-941f-e8a48c8de58d",
   "metadata": {},
   "outputs": [],
   "source": [
    "# Define a tuple\n",
    "my_tuple = (1, 2, 3, 4, 5)\n",
    "\n",
    "# Access an element\n",
    "print(\"Second element:\", my_tuple[1])  # Output: 2\n",
    "\n",
    "# Tuples are immutable, so attempting to modify an element will raise an error\n",
    "# Uncommenting the following line will raise a TypeError\n",
    "# my_tuple[1] = 10\n",
    "\n",
    "# You cannot append or remove elements from a tuple\n",
    "# Uncommenting the following lines will raise errors\n",
    "# my_tuple.append(6)\n",
    "# my_tuple.remove(2)\n"
   ]
  },
  {
   "cell_type": "raw",
   "id": "4bdfd61f-af9e-43c4-9261-ef27dee21f17",
   "metadata": {},
   "source": [
    "Comparison\n",
    "Mutability\n",
    "Lists: Mutable; you can change, add, or remove elements.\n",
    "Tuples: Immutable; you cannot change, add, or remove elements after creation.\n",
    "Performance\n",
    "Lists: Generally have a higher memory overhead due to their mutability and dynamic sizing.\n",
    "Tuples: Have a smaller memory footprint and can be slightly faster than lists due to their immutability.\n",
    "Use Cases\n",
    "Lists: Suitable for collections of items that may need to be modified, such as maintaining a list of tasks, managing a collection of user inputs, or dynamically changing data.\n",
    "Tuples: Suitable for fixed collections of items that should not change, such as coordinates, function return values, or fixed data structures.\n",
    "Syntax and Methods\n",
    "Lists: Support a wide range of methods such as append(), remove(), extend(), pop(), etc.\n",
    "Tuples: Support fewer methods, primarily count() and index()."
   ]
  },
  {
   "cell_type": "code",
   "execution_count": null,
   "id": "589b6500-c1c3-495a-8c38-3f02b1959d2d",
   "metadata": {},
   "outputs": [],
   "source": [
    "# List example\n",
    "my_list = [1, 2, 3]\n",
    "my_list.append(4)  # Valid operation\n",
    "my_list[1] = 10    # Valid operation\n",
    "print(\"List:\", my_list)  # Output: [1, 10, 3, 4]\n",
    "\n",
    "# Tuple example\n",
    "my_tuple = (1, 2, 3)\n",
    "# my_tuple.append(4)  # Raises AttributeError\n",
    "# my_tuple[1] = 10     # Raises TypeError\n",
    "print(\"Tuple:\", my_tuple)  # Output: (1, 2, 3)\n"
   ]
  },
  {
   "cell_type": "raw",
   "id": "e427e969-5be0-422d-b84e-0d5961d74e4f",
   "metadata": {},
   "source": [
    "Q5. Describe the key features of sets and provide examples of thier use.\n",
    "\n",
    "A set is an unordered collection of unique items. It is a powerful data structure in Python for handling collections where duplicate values are not allowed and where membership testing is important.\n",
    "\n",
    "Key Features\n",
    "1. Unordered\n",
    "Sets do not maintain any order of elements. The items in a set do not have an index and their order is not guaranteed."
   ]
  },
  {
   "cell_type": "code",
   "execution_count": null,
   "id": "9bdcb69c-95ac-4cac-af14-9e69081a1777",
   "metadata": {},
   "outputs": [],
   "source": [
    "# Define a set\n",
    "my_set = {1, 2, 3, 4, 5}\n",
    "\n",
    "# Printing the set\n",
    "print(\"Set:\", my_set)  # Output: Set: {1, 2, 3, 4, 5}\n"
   ]
  },
  {
   "cell_type": "raw",
   "id": "a2f7ab51-8c3a-47e8-afdf-faf2220734ce",
   "metadata": {},
   "source": [
    "2. Unique Elements\n",
    "Sets automatically remove duplicate items. If you try to add a duplicate item to a set, it will not be added."
   ]
  },
  {
   "cell_type": "code",
   "execution_count": null,
   "id": "a29ca992-8b4e-4663-9d96-82a1abde1704",
   "metadata": {},
   "outputs": [],
   "source": [
    "# Define a set with duplicate elements\n",
    "my_set = {1, 2, 2, 3, 4, 4, 5}\n",
    "\n",
    "# Printing the set\n",
    "print(\"Set with duplicates removed:\", my_set)  # Output: Set with duplicates removed: {1, 2, 3, 4, 5}\n"
   ]
  },
  {
   "cell_type": "raw",
   "id": "659fe4dc-d07d-4d08-b373-d62afeeaf891",
   "metadata": {},
   "source": [
    "3. Mutable\n",
    "Sets are mutable, which means you can add or remove elements after creation. However, the items themselves must be immutable (e.g., numbers, strings, tuples)."
   ]
  },
  {
   "cell_type": "code",
   "execution_count": null,
   "id": "de97aa52-b4fb-4c51-8c56-26276731612b",
   "metadata": {},
   "outputs": [],
   "source": [
    "# Define a set\n",
    "my_set = {1, 2, 3}\n",
    "\n",
    "# Add an element\n",
    "my_set.add(4)\n",
    "print(\"Set after adding 4:\", my_set)  # Output: Set after adding 4: {1, 2, 3, 4}\n",
    "\n",
    "# Remove an element\n",
    "my_set.remove(2)\n",
    "print(\"Set after removing 2:\", my_set)  # Output: Set after removing 2: {1, 3, 4}\n",
    "\n",
    "# Attempt to remove a non-existing element (raises KeyError)\n",
    "# my_set.remove(5)\n"
   ]
  },
  {
   "cell_type": "raw",
   "id": "5dac38fb-69e3-4c9c-b26a-4c3e7cacf255",
   "metadata": {},
   "source": [
    "4. No Indexing\n",
    "Since sets are unordered, you cannot access elements by index or perform slicing."
   ]
  },
  {
   "cell_type": "code",
   "execution_count": null,
   "id": "31a9c7c3-8c1c-4b45-b84a-2180d3c2be12",
   "metadata": {},
   "outputs": [],
   "source": [
    "# Define a set\n",
    "my_set = {10, 20, 30, 40}\n",
    "\n",
    "# Attempting to access an element by index (raises TypeError)\n",
    "# print(my_set[0])\n"
   ]
  },
  {
   "cell_type": "raw",
   "id": "bd3db4b0-a88e-47e3-9457-ac49497b9132",
   "metadata": {},
   "source": [
    "5. Set Operations\n",
    "Sets support various operations such as union, intersection, difference, and symmetric difference."
   ]
  },
  {
   "cell_type": "code",
   "execution_count": null,
   "id": "8d217da8-c2cb-4661-a15b-789a17c9af83",
   "metadata": {},
   "outputs": [],
   "source": [
    "# Define two sets\n",
    "set1 = {1, 2, 3, 4}\n",
    "set2 = {3, 4, 5, 6}\n",
    "\n",
    "# Union: elements in either set\n",
    "union_set = set1.union(set2)\n",
    "print(\"Union:\", union_set)  # Output: Union: {1, 2, 3, 4, 5, 6}\n",
    "\n",
    "# Intersection: elements in both sets\n",
    "intersection_set = set1.intersection(set2)\n",
    "print(\"Intersection:\", intersection_set)  # Output: Intersection: {3, 4}\n",
    "\n",
    "# Difference: elements in set1 but not in set2\n",
    "difference_set = set1.difference(set2)\n",
    "print(\"Difference:\", difference_set)  # Output: Difference: {1, 2}\n",
    "\n",
    "# Symmetric Difference: elements in either set but not in both\n",
    "symmetric_difference_set = set1.symmetric_difference(set2)\n",
    "print(\"Symmetric Difference:\", symmetric_difference_set)  # Output: Symmetric Difference: {1, 2, 5, 6}\n"
   ]
  },
  {
   "cell_type": "raw",
   "id": "26b5065f-6ebb-451c-95b8-668ba9452e54",
   "metadata": {},
   "source": [
    "6. Membership Testing\n",
    "Sets provide a fast membership test using the in keyword, making them efficient for checking if an item exists in the set."
   ]
  },
  {
   "cell_type": "code",
   "execution_count": null,
   "id": "f6e3dc02-17d8-4984-81a0-d094743da24e",
   "metadata": {},
   "outputs": [],
   "source": [
    "# Define a set\n",
    "my_set = {10, 20, 30, 40}\n",
    "\n",
    "# Membership testing\n",
    "print(10 in my_set)  # Output: True\n",
    "print(25 in my_set)  # Output: False\n"
   ]
  },
  {
   "cell_type": "raw",
   "id": "eb28a744-1650-4880-9578-8724506d87d1",
   "metadata": {},
   "source": [
    "7. Frozen Sets\n",
    "A frozenset is an immutable version of a set. Once created, its elements cannot be changed, and it supports set operations but not modifications.\n",
    "\n"
   ]
  },
  {
   "cell_type": "code",
   "execution_count": null,
   "id": "c14a777f-9248-4427-86ba-a15d92a439c7",
   "metadata": {},
   "outputs": [],
   "source": [
    "# Define a frozenset\n",
    "frozen_set = frozenset([1, 2, 3, 4])\n",
    "\n",
    "# Attempt to add an element (raises AttributeError)\n",
    "# frozen_set.add(5)\n",
    "\n",
    "# Print the frozenset\n",
    "print(\"Frozenset:\", frozen_set)  # Output: Frozenset: frozenset({1, 2, 3, 4})\n"
   ]
  },
  {
   "cell_type": "raw",
   "id": "cb53d3be-c951-487a-9e91-36a75a8cd730",
   "metadata": {},
   "source": [
    "Q6. Discuss the use cases of tuples and sets in python programming.\n",
    "\n",
    "Tuples\n",
    "1. Fixed Collections of Items\n",
    "Tuples are ideal when you need to represent a collection of items that should not change. They are used for data that is constant and immutable.\n",
    "\n",
    "Use Case Example: Representing a coordinate point in a 2D or 3D space."
   ]
  },
  {
   "cell_type": "code",
   "execution_count": null,
   "id": "78fd1c6f-ce87-4983-b5c9-8769f91f78f8",
   "metadata": {},
   "outputs": [],
   "source": [
    "# Coordinate in 2D space\n",
    "coordinate_2d = (10, 20)\n",
    "\n",
    "# Coordinate in 3D space\n",
    "coordinate_3d = (10, 20, 30)\n"
   ]
  },
  {
   "cell_type": "raw",
   "id": "b09f485e-b107-433e-a81e-1099c2910f63",
   "metadata": {},
   "source": [
    "2. Function Return Values\n",
    "Tuples are often used to return multiple values from a function. They provide a way to group related data without creating a custom data structure.\n",
    "\n",
    "Use Case Example: Returning both quotient and remainder from a division function."
   ]
  },
  {
   "cell_type": "code",
   "execution_count": null,
   "id": "a4ba5fc5-9777-4046-8408-93b651d62c91",
   "metadata": {},
   "outputs": [],
   "source": [
    "def divide(a, b):\n",
    "    quotient = a // b\n",
    "    remainder = a % b\n",
    "    return quotient, remainder\n",
    "\n",
    "result = divide(10, 3)\n",
    "print(\"Quotient:\", result[0])\n",
    "print(\"Remainder:\", result[1])\n"
   ]
  },
  {
   "cell_type": "raw",
   "id": "397dd6b3-7c7d-4dd4-82eb-b68bbfaf0eec",
   "metadata": {},
   "source": [
    "3. Dictionary Keys\n",
    "Tuples can be used as keys in dictionaries because they are immutable and hashable, unlike lists which cannot be used as dictionary keys.\n",
    "\n",
    "Use Case Example: Storing values in a dictionary where keys are coordinates."
   ]
  },
  {
   "cell_type": "code",
   "execution_count": null,
   "id": "96e6baad-9dfe-47e1-8e55-0de95b4358c9",
   "metadata": {},
   "outputs": [],
   "source": [
    "# Dictionary with tuple keys\n",
    "coordinates_dict = {\n",
    "    (0, 0): \"Origin\",\n",
    "    (1, 1): \"Point A\",\n",
    "    (2, 2): \"Point B\"\n",
    "}\n",
    "\n",
    "print(coordinates_dict[(1, 1)])  # Output: Point A\n"
   ]
  },
  {
   "cell_type": "raw",
   "id": "8c8b14f4-d5ec-4d2d-88e5-33d83472a5ca",
   "metadata": {},
   "source": [
    "4. Data Integrity\n",
    "Using tuples can signal that a collection of values should not be altered, providing a clear contract in the code about the immutability of the data.\n",
    "\n",
    "Use Case Example: Representing fixed records in an application where the structure of the data is constant."
   ]
  },
  {
   "cell_type": "code",
   "execution_count": null,
   "id": "fb8d27a6-4438-4885-b283-c5d088336e8d",
   "metadata": {},
   "outputs": [],
   "source": [
    "# Employee record\n",
    "employee_record = (\"John Doe\", \"Software Engineer\", 75000)\n"
   ]
  },
  {
   "cell_type": "raw",
   "id": "99e6c1a4-eee0-4c37-975b-11cc6a76ddde",
   "metadata": {},
   "source": [
    "5. Efficiency\n",
    "Tuples are generally more memory-efficient than lists due to their immutability. They are useful in performance-critical applications where overhead should be minimized.\n",
    "\n",
    "Use Case Example: Using tuples to store large sets of data that do not need modification."
   ]
  },
  {
   "cell_type": "code",
   "execution_count": null,
   "id": "0439430f-c2b3-4cf0-b320-a5600dd4ba98",
   "metadata": {},
   "outputs": [],
   "source": [
    "# Large dataset as tuple\n",
    "large_dataset = tuple(range(1000000))\n"
   ]
  },
  {
   "cell_type": "raw",
   "id": "5cfe61a3-18e3-4895-9c94-848a4db8e32e",
   "metadata": {},
   "source": [
    "Sets\n",
    "1. Unique Collections\n",
    "Sets are designed to handle collections of unique items. They automatically remove duplicates and are useful when uniqueness is a requirement.\n",
    "\n",
    "Use Case Example: Removing duplicates from a list."
   ]
  },
  {
   "cell_type": "code",
   "execution_count": null,
   "id": "7d094d8c-2a2c-4d97-93a0-2bc66b7f5377",
   "metadata": {},
   "outputs": [],
   "source": [
    "# Removing duplicates\n",
    "original_list = [1, 2, 2, 3, 4, 4, 5]\n",
    "unique_set = set(original_list)\n",
    "print(\"Unique items:\", unique_set)  # Output: {1, 2, 3, 4, 5}\n"
   ]
  },
  {
   "cell_type": "raw",
   "id": "e09829b5-0aed-40e4-93c0-9833a816b906",
   "metadata": {},
   "source": [
    "2. Membership Testing\n",
    "Sets provide fast membership testing. Checking if an item exists in a set is more efficient than in lists, making sets ideal for lookups.\n",
    "\n",
    "Use Case Example: Checking for membership in a large dataset."
   ]
  },
  {
   "cell_type": "code",
   "execution_count": null,
   "id": "e9d4ca29-c35e-43b9-8345-e00797c65c15",
   "metadata": {},
   "outputs": [],
   "source": [
    "# Fast membership testing\n",
    "large_set = set(range(1000000))\n",
    "print(999999 in large_set)  # Output: True\n",
    "print(1000000 in large_set)  # Output: False\n"
   ]
  },
  {
   "cell_type": "raw",
   "id": "398c48c7-71b2-434b-b704-d59684b95f91",
   "metadata": {},
   "source": [
    "3. Set Operations\n",
    "Sets support operations such as union, intersection, difference, and symmetric difference, which are useful for mathematical and data analysis tasks.\n",
    "\n",
    "Use Case Example: Analyzing common elements between two datasets."
   ]
  },
  {
   "cell_type": "code",
   "execution_count": null,
   "id": "325b3e3e-bff2-4d34-bfbb-4d7947160fa5",
   "metadata": {},
   "outputs": [],
   "source": [
    "# Analyzing common elements\n",
    "set1 = {1, 2, 3, 4, 5}\n",
    "set2 = {4, 5, 6, 7, 8}\n",
    "\n",
    "# Intersection\n",
    "common_elements = set1.intersection(set2)\n",
    "print(\"Common elements:\", common_elements)  # Output: {4, 5}\n"
   ]
  },
  {
   "cell_type": "raw",
   "id": "4cde5e33-5887-4ef0-93de-d53be9d009fc",
   "metadata": {},
   "source": [
    "4. Data Cleaning\n",
    "Sets are used to remove duplicate values and to clean data. They are also useful for identifying non-redundant items.\n",
    "\n",
    "Use Case Example: Finding unique entries in a dataset."
   ]
  },
  {
   "cell_type": "code",
   "execution_count": null,
   "id": "7ccb0fd4-e9ae-4f7e-bddf-525e1fcdc892",
   "metadata": {},
   "outputs": [],
   "source": [
    "# Data cleaning\n",
    "raw_data = [\"apple\", \"banana\", \"apple\", \"orange\", \"banana\"]\n",
    "cleaned_data = set(raw_data)\n",
    "print(\"Cleaned data:\", cleaned_data)  # Output: {'banana', 'apple', 'orange'}\n"
   ]
  },
  {
   "cell_type": "raw",
   "id": "8c3f5319-63c4-4fc9-a564-9587ede9bb78",
   "metadata": {},
   "source": [
    "5. Frozensets for Immutable Sets\n",
    "frozenset provides an immutable version of a set, which can be used as a dictionary key or in situations where the set should not change.\n",
    "\n",
    "Use Case Example: Using frozenset as a dictionary key for immutable sets."
   ]
  },
  {
   "cell_type": "code",
   "execution_count": null,
   "id": "bd4a5266-631e-4ebb-96d5-d279936ede37",
   "metadata": {},
   "outputs": [],
   "source": [
    "# Frozenset as dictionary key\n",
    "frozenset_key = frozenset([1, 2, 3])\n",
    "my_dict = {frozenset_key: \"Value associated with frozenset\"}\n",
    "print(my_dict[frozenset_key])  # Output: Value associated with frozenset\n"
   ]
  },
  {
   "cell_type": "raw",
   "id": "a8218e0b-f364-413c-9c5f-a4d4ee8980f0",
   "metadata": {},
   "source": [
    "Q7. Describe how to add, modify and delete items in a dicstionary with examples.\n",
    "\n",
    "Adding Items\n",
    "You can add new key-value pairs to a dictionary by assigning a value to a new key."
   ]
  },
  {
   "cell_type": "code",
   "execution_count": null,
   "id": "ef299641-d3fc-436b-b891-3deca40ce13e",
   "metadata": {},
   "outputs": [],
   "source": [
    "# Define an empty dictionary\n",
    "my_dict = {}\n",
    "\n",
    "# Add items to the dictionary\n",
    "my_dict['name'] = 'Alice'\n",
    "my_dict['age'] = 30\n",
    "my_dict['city'] = 'New York'\n",
    "\n",
    "print(\"Dictionary after adding items:\", my_dict)\n",
    "# Output: Dictionary after adding items: {'name': 'Alice', 'age': 30, 'city': 'New York'}\n"
   ]
  },
  {
   "cell_type": "raw",
   "id": "42135267-9199-48dd-9eef-03e283f8396e",
   "metadata": {},
   "source": [
    "Modifying Items\n",
    "You can modify the value associated with an existing key by assigning a new value to that key."
   ]
  },
  {
   "cell_type": "code",
   "execution_count": null,
   "id": "7fe6e690-c65e-41ca-9941-103435e351ef",
   "metadata": {},
   "outputs": [],
   "source": [
    "# Define a dictionary\n",
    "my_dict = {'name': 'Alice', 'age': 30, 'city': 'New York'}\n",
    "\n",
    "# Modify an existing item\n",
    "my_dict['age'] = 31  # Change the age from 30 to 31\n",
    "my_dict['city'] = 'San Francisco'  # Change the city from 'New York' to 'San Francisco'\n",
    "\n",
    "print(\"Dictionary after modifying items:\", my_dict)\n",
    "# Output: Dictionary after modifying items: {'name': 'Alice', 'age': 31, 'city': 'San Francisco'}\n"
   ]
  },
  {
   "cell_type": "raw",
   "id": "87b1a5b8-eb39-4ddc-b7e0-e382072825db",
   "metadata": {},
   "source": [
    "Deleting Items\n",
    "You can delete items from a dictionary using various methods:\n",
    "\n",
    "1. Using del Statement\n",
    "The del statement removes a key-value pair by specifying the key."
   ]
  },
  {
   "cell_type": "code",
   "execution_count": null,
   "id": "b1466bed-5f4c-4b6a-a308-96d14b7c9550",
   "metadata": {},
   "outputs": [],
   "source": [
    "# Define a dictionary\n",
    "my_dict = {'name': 'Alice', 'age': 30, 'city': 'New York'}\n",
    "\n",
    "# Delete an item\n",
    "del my_dict['city']\n",
    "\n",
    "print(\"Dictionary after deleting an item:\", my_dict)\n",
    "# Output: Dictionary after deleting an item: {'name': 'Alice', 'age': 30}\n"
   ]
  },
  {
   "cell_type": "raw",
   "id": "63cf2c5a-51db-4a22-b2b3-4bdac6b62e87",
   "metadata": {},
   "source": [
    "2. Using pop() Method\n",
    "The pop() method removes a key-value pair and returns the value. If the key is not found, it raises a KeyError."
   ]
  },
  {
   "cell_type": "code",
   "execution_count": null,
   "id": "a1e19a32-1e31-4ad2-8e1b-a8575d1a03f2",
   "metadata": {},
   "outputs": [],
   "source": [
    "# Define a dictionary\n",
    "my_dict = {'name': 'Alice', 'age': 30, 'city': 'New York'}\n",
    "\n",
    "# Remove an item and get the value\n",
    "age = my_dict.pop('age')\n",
    "\n",
    "print(\"Removed value:\", age)  # Output: Removed value: 30\n",
    "print(\"Dictionary after pop:\", my_dict)  # Output: Dictionary after pop: {'name': 'Alice', 'city': 'New York'}\n"
   ]
  },
  {
   "cell_type": "raw",
   "id": "09831824-46c8-4441-8861-ba584e0c0580",
   "metadata": {},
   "source": [
    "3. Using popitem() Method\n",
    "The popitem() method removes and returns the last key-value pair inserted into the dictionary. If the dictionary is empty, it raises a KeyError."
   ]
  },
  {
   "cell_type": "code",
   "execution_count": null,
   "id": "00bdc50a-df7f-4576-a885-265394c0ba4b",
   "metadata": {},
   "outputs": [],
   "source": [
    "# Define a dictionary\n",
    "my_dict = {'name': 'Alice', 'age': 30, 'city': 'New York'}\n",
    "\n",
    "# Remove the last item\n",
    "item = my_dict.popitem()\n",
    "\n",
    "print(\"Removed item:\", item)  # Output: Removed item: ('city', 'New York')\n",
    "print(\"Dictionary after popitem:\", my_dict)  # Output: Dictionary after popitem: {'name': 'Alice', 'age': 30}\n"
   ]
  },
  {
   "cell_type": "raw",
   "id": "d8b0550e-a094-41a6-bd59-7ee98283af94",
   "metadata": {},
   "source": [
    "4. Using clear() Method\n",
    "The clear() method removes all items from the dictionary, making it empty."
   ]
  },
  {
   "cell_type": "code",
   "execution_count": null,
   "id": "5a8907c2-2ac8-4b0e-a490-3b95d2a9ba96",
   "metadata": {},
   "outputs": [],
   "source": [
    "# Define a dictionary\n",
    "my_dict = {'name': 'Alice', 'age': 30, 'city': 'New York'}\n",
    "\n",
    "# Clear all items\n",
    "my_dict.clear()\n",
    "\n",
    "print(\"Dictionary after clear:\", my_dict)  # Output: Dictionary after clear: {}\n"
   ]
  },
  {
   "cell_type": "raw",
   "id": "51419ef7-67c4-421d-9c69-f0d76e843639",
   "metadata": {},
   "source": [
    "Q8. Discuss the importance of dictionary keys being immutable and provide examples.\n",
    "\n",
    "In Python, dictionary keys must be immutable because their immutability ensures that the integrity and consistency of the dictionary are maintained. This property is fundamental to the dictionary's underlying hashing mechanism, which is essential for efficient key-based access to values.\n",
    "\n",
    "Importance of Immutable Keys\n",
    "Hashing Consistency\n",
    "\n",
    "Hash Function Requirement: Dictionaries use a hash table for efficient lookups. To store and retrieve values quickly, dictionaries use hash functions that compute a hash value based on the key. If a key's value could change, it would affect its hash value, potentially leading to inconsistencies in the dictionary's internal structure.\n",
    "Consistency: Immutable keys guarantee that the hash value remains consistent throughout the key's lifetime. This ensures that the key will always map to the correct value, maintaining the dictionary's reliability.\n",
    "Predictable Behavior\n",
    "\n",
    "Key Uniqueness: Immutable keys ensure that the same key always maps to the same hash value, preserving the uniqueness of each key. This consistency avoids issues where a key might otherwise \"move\" to a different hash bucket if its value were to change.\n",
    "Avoiding Collisions\n",
    "\n",
    "Collision Management: When a key's hash value is stable, the dictionary can manage hash collisions effectively. Immutable keys avoid complications that arise if a key's hash value were to change, which could lead to collisions being mismanaged and values being misplaced."
   ]
  },
  {
   "cell_type": "code",
   "execution_count": null,
   "id": "f05268ba-c24e-4821-bc40-f37803b2c2ba",
   "metadata": {},
   "outputs": [],
   "source": [
    "Examples of Immutable and Mutable Keys\n",
    "Immutable Keys\n",
    "Strings\n",
    "# Using strings as dictionary keys\n",
    "my_dict = {\n",
    "    'name': 'Alice',\n",
    "    'age': 30,\n",
    "    'city': 'New York'\n",
    "}\n",
    "\n",
    "print(my_dict['name'])  # Output: Alice\n",
    "\n",
    "\n",
    "Tuples\n",
    "# Using tuples as dictionary keys\n",
    "my_dict = {\n",
    "    (1, 2): 'Point A',\n",
    "    (3, 4): 'Point B'\n",
    "}\n",
    "\n",
    "print(my_dict[(1, 2)])  # Output: Point A\n",
    "\n",
    "\n",
    "Numbers\n",
    "# Using integers and floats as dictionary keys\n",
    "my_dict = {\n",
    "    1: 'One',\n",
    "    2.5: 'Two Point Five'\n",
    "}\n",
    "\n",
    "print(my_dict[1])  # Output: One\n",
    "\n",
    "\n",
    "Mutable Keys (Not Allowed)\n",
    "Lists\n",
    "# Attempting to use a list as a dictionary key (raises TypeError)\n",
    "try:\n",
    "    my_dict = {\n",
    "        [1, 2]: 'List as a key'\n",
    "    }\n",
    "except TypeError as e:\n",
    "    print(\"Error:\", e)  # Output: Error: unhashable type: 'list'\n",
    "\n",
    "    \n",
    "Dictionaries\n",
    "# Attempting to use a dictionary as a key (raises TypeError)\n",
    "try:\n",
    "    my_dict = {\n",
    "        {'key': 'value'}: 'Dictionary as a key'\n",
    "    }\n",
    "except TypeError as e:\n",
    "    print(\"Error:\", e)  # Output: Error: unhashable type: 'dict'\n",
    "\n",
    "    \n",
    "Sets\n",
    "# Attempting to use a set as a dictionary key (raises TypeError)\n",
    "try:\n",
    "    my_dict = {\n",
    "        {1, 2, 3}: 'Set as a key'\n",
    "    }\n",
    "except TypeError as e:\n",
    "    print(\"Error:\", e)  # Output: Error: unhashable type: 'set'"
   ]
  }
 ],
 "metadata": {
  "kernelspec": {
   "display_name": "Python 3 (ipykernel)",
   "language": "python",
   "name": "python3"
  },
  "language_info": {
   "codemirror_mode": {
    "name": "ipython",
    "version": 3
   },
   "file_extension": ".py",
   "mimetype": "text/x-python",
   "name": "python",
   "nbconvert_exporter": "python",
   "pygments_lexer": "ipython3",
   "version": "3.10.8"
  }
 },
 "nbformat": 4,
 "nbformat_minor": 5
}
