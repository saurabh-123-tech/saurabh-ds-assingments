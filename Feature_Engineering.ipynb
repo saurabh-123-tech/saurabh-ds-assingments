{
  "nbformat": 4,
  "nbformat_minor": 0,
  "metadata": {
    "colab": {
      "provenance": []
    },
    "kernelspec": {
      "name": "python3",
      "display_name": "Python 3"
    },
    "language_info": {
      "name": "python"
    }
  },
  "cells": [
    {
      "cell_type": "markdown",
      "source": [
        "6.\tHow do we handle categorical variables in Machine Learning? What are the common techniques?\n"
      ],
      "metadata": {
        "id": "3oTyao9NmrB_"
      }
    },
    {
      "cell_type": "code",
      "source": [
        "from sklearn.preprocessing import LabelEncoder\n",
        "\n",
        "data = ['small', 'medium', 'large', 'small', 'large']\n",
        "encoder = LabelEncoder()\n",
        "encoded_data = encoder.fit_transform(data)\n",
        "print(encoded_data)  # Output: [0 1 2 0 2]\n"
      ],
      "metadata": {
        "colab": {
          "base_uri": "https://localhost:8080/"
        },
        "id": "m1OgoGaymsGe",
        "outputId": "d5279cec-c47f-4fc3-88ca-51d1b5c8465e"
      },
      "execution_count": 7,
      "outputs": [
        {
          "output_type": "stream",
          "name": "stdout",
          "text": [
            "[2 1 0 2 0]\n"
          ]
        }
      ]
    },
    {
      "cell_type": "code",
      "source": [
        "red    -> [1, 0, 0]\n",
        "blue   -> [0, 1, 0]\n",
        "green  -> [0, 0, 1]\n"
      ],
      "metadata": {
        "id": "Gcku2JuynCyj"
      },
      "execution_count": null,
      "outputs": []
    },
    {
      "cell_type": "code",
      "source": [
        "import pandas as pd\n",
        "\n",
        "data = ['red', 'blue', 'green', 'red']\n",
        "df = pd.DataFrame(data, columns=['Color'])\n",
        "one_hot_encoded_data = pd.get_dummies(df['Color'])\n",
        "print(one_hot_encoded_data)\n"
      ],
      "metadata": {
        "colab": {
          "base_uri": "https://localhost:8080/"
        },
        "id": "CWwkj1Z1nF_n",
        "outputId": "979a4822-7683-43c6-8668-edfe431a873c"
      },
      "execution_count": 10,
      "outputs": [
        {
          "output_type": "stream",
          "name": "stdout",
          "text": [
            "    blue  green    red\n",
            "0  False  False   True\n",
            "1   True  False  False\n",
            "2  False   True  False\n",
            "3  False  False   True\n"
          ]
        }
      ]
    },
    {
      "cell_type": "code",
      "source": [
        "import pandas as pd\n",
        "\n",
        "data = ['red', 'blue', 'blue', 'green', 'red']\n",
        "df = pd.DataFrame(data, columns=['Color'])\n",
        "frequency_encoding = df['Color'].map(df['Color'].value_counts())\n",
        "print(frequency_encoding)\n"
      ],
      "metadata": {
        "colab": {
          "base_uri": "https://localhost:8080/"
        },
        "id": "U50QgKI2nlAD",
        "outputId": "3e3e5119-dbb5-4ba7-d3f8-027b3b587e64"
      },
      "execution_count": 15,
      "outputs": [
        {
          "output_type": "stream",
          "name": "stdout",
          "text": [
            "0    2\n",
            "1    2\n",
            "2    2\n",
            "3    1\n",
            "4    2\n",
            "Name: Color, dtype: int64\n"
          ]
        }
      ]
    },
    {
      "cell_type": "markdown",
      "source": [
        "What is sklearn.preprocessing?\n"
      ],
      "metadata": {
        "id": "bcs5hlRKolvJ"
      }
    },
    {
      "cell_type": "code",
      "source": [
        "from sklearn.preprocessing import StandardScaler\n",
        "import numpy as np\n",
        "\n",
        "data = np.array([[1, 2], [3, 4], [5, 6]])\n",
        "scaler = StandardScaler()\n",
        "scaled_data = scaler.fit_transform(data)\n",
        "print(scaled_data)\n"
      ],
      "metadata": {
        "colab": {
          "base_uri": "https://localhost:8080/"
        },
        "id": "l33duRGJooGu",
        "outputId": "96e39c61-c534-43dd-ed2b-a59606d32ee9"
      },
      "execution_count": 17,
      "outputs": [
        {
          "output_type": "stream",
          "name": "stdout",
          "text": [
            "[[-1.22474487 -1.22474487]\n",
            " [ 0.          0.        ]\n",
            " [ 1.22474487  1.22474487]]\n"
          ]
        }
      ]
    },
    {
      "cell_type": "code",
      "source": [
        "from sklearn.preprocessing import MinMaxScaler\n",
        "data = np.array([[1, 2], [3, 4], [5, 6]])\n",
        "scaler = MinMaxScaler()\n",
        "scaled_data = scaler.fit_transform(data)\n",
        "print(scaled_data)\n"
      ],
      "metadata": {
        "colab": {
          "base_uri": "https://localhost:8080/"
        },
        "id": "egzcYWXaor4g",
        "outputId": "b532150f-0b09-433e-f408-8e1f67f08335"
      },
      "execution_count": 18,
      "outputs": [
        {
          "output_type": "stream",
          "name": "stdout",
          "text": [
            "[[0.  0. ]\n",
            " [0.5 0.5]\n",
            " [1.  1. ]]\n"
          ]
        }
      ]
    },
    {
      "cell_type": "code",
      "source": [
        "from sklearn.preprocessing import RobustScaler\n",
        "data = np.array([[1, 2], [3, 4], [100, 6]])\n",
        "scaler = RobustScaler()\n",
        "scaled_data = scaler.fit_transform(data)\n",
        "print(scaled_data)\n"
      ],
      "metadata": {
        "colab": {
          "base_uri": "https://localhost:8080/"
        },
        "id": "s20kTF0aotSj",
        "outputId": "6e265485-beb8-4ce5-b7e5-ea1004f7389c"
      },
      "execution_count": 19,
      "outputs": [
        {
          "output_type": "stream",
          "name": "stdout",
          "text": [
            "[[-0.04040404 -1.        ]\n",
            " [ 0.          0.        ]\n",
            " [ 1.95959596  1.        ]]\n"
          ]
        }
      ]
    },
    {
      "cell_type": "code",
      "source": [
        "from sklearn.preprocessing import Normalizer\n",
        "data = np.array([[1, 2], [3, 4], [5, 6]])\n",
        "normalizer = Normalizer()\n",
        "normalized_data = normalizer.fit_transform(data)\n",
        "print(normalized_data)\n"
      ],
      "metadata": {
        "colab": {
          "base_uri": "https://localhost:8080/"
        },
        "id": "ynS6tUaboxDP",
        "outputId": "fe35bc7d-2cee-4d84-d460-5de36c976a63"
      },
      "execution_count": 20,
      "outputs": [
        {
          "output_type": "stream",
          "name": "stdout",
          "text": [
            "[[0.4472136  0.89442719]\n",
            " [0.6        0.8       ]\n",
            " [0.6401844  0.76822128]]\n"
          ]
        }
      ]
    },
    {
      "cell_type": "code",
      "source": [
        "from sklearn.preprocessing import OneHotEncoder\n",
        "data = [['red'], ['blue'], ['green']]\n",
        "encoder = OneHotEncoder()\n",
        "one_hot_encoded_data = encoder.fit_transform(data).toarray()\n",
        "print(one_hot_encoded_data)\n"
      ],
      "metadata": {
        "colab": {
          "base_uri": "https://localhost:8080/"
        },
        "id": "Y7HP_725ozst",
        "outputId": "b726f8a8-bb3f-4933-99e2-861a32d060d8"
      },
      "execution_count": 21,
      "outputs": [
        {
          "output_type": "stream",
          "name": "stdout",
          "text": [
            "[[0. 0. 1.]\n",
            " [1. 0. 0.]\n",
            " [0. 1. 0.]]\n"
          ]
        }
      ]
    },
    {
      "cell_type": "code",
      "source": [
        "from sklearn.preprocessing import LabelEncoder\n",
        "data = ['small', 'medium', 'large', 'small']\n",
        "encoder = LabelEncoder()\n",
        "encoded_data = encoder.fit_transform(data)\n",
        "print(encoded_data)\n"
      ],
      "metadata": {
        "colab": {
          "base_uri": "https://localhost:8080/"
        },
        "id": "Il1wfmZwo2g4",
        "outputId": "a22217fe-47c9-4fb0-9ff3-930a65e114d3"
      },
      "execution_count": 22,
      "outputs": [
        {
          "output_type": "stream",
          "name": "stdout",
          "text": [
            "[2 1 0 2]\n"
          ]
        }
      ]
    },
    {
      "cell_type": "code",
      "source": [
        "from sklearn.preprocessing import Binarizer\n",
        "data = np.array([[1, -1], [2, 5], [3, 8]])\n",
        "binarizer = Binarizer(threshold=2)\n",
        "binary_data = binarizer.fit_transform(data)\n",
        "print(binary_data)\n"
      ],
      "metadata": {
        "colab": {
          "base_uri": "https://localhost:8080/"
        },
        "id": "32Ox9HNoo5hK",
        "outputId": "63d55056-17cc-4cac-d26a-fb8fa51f2b7f"
      },
      "execution_count": 23,
      "outputs": [
        {
          "output_type": "stream",
          "name": "stdout",
          "text": [
            "[[0 0]\n",
            " [0 1]\n",
            " [1 1]]\n"
          ]
        }
      ]
    },
    {
      "cell_type": "code",
      "source": [
        "from sklearn.preprocessing import PolynomialFeatures\n",
        "data = np.array([[1, 2], [3, 4], [5, 6]])\n",
        "poly = PolynomialFeatures(degree=2)\n",
        "poly_features = poly.fit_transform(data)\n",
        "print(poly_features)\n"
      ],
      "metadata": {
        "colab": {
          "base_uri": "https://localhost:8080/"
        },
        "id": "piUUBR0Uo77d",
        "outputId": "2d25b610-f285-4c49-a0a0-532bb951b136"
      },
      "execution_count": 24,
      "outputs": [
        {
          "output_type": "stream",
          "name": "stdout",
          "text": [
            "[[ 1.  1.  2.  1.  2.  4.]\n",
            " [ 1.  3.  4.  9. 12. 16.]\n",
            " [ 1.  5.  6. 25. 30. 36.]]\n"
          ]
        }
      ]
    },
    {
      "cell_type": "code",
      "source": [
        "from sklearn.preprocessing import QuantileTransformer\n",
        "data = np.array([[1, 2], [3, 4], [5, 6]])\n",
        "transformer = QuantileTransformer(output_distribution='normal')\n",
        "transformed_data = transformer.fit_transform(data)\n",
        "print(transformed_data)\n"
      ],
      "metadata": {
        "colab": {
          "base_uri": "https://localhost:8080/"
        },
        "id": "WFDVWk30o-bv",
        "outputId": "498ed312-d007-4db3-aad3-a395f5b1c3e5"
      },
      "execution_count": 25,
      "outputs": [
        {
          "output_type": "stream",
          "name": "stdout",
          "text": [
            "[[-5.19933758 -5.19933758]\n",
            " [ 0.          0.        ]\n",
            " [ 5.19933758  5.19933758]]\n"
          ]
        },
        {
          "output_type": "stream",
          "name": "stderr",
          "text": [
            "/usr/local/lib/python3.10/dist-packages/sklearn/preprocessing/_data.py:2785: UserWarning: n_quantiles (1000) is greater than the total number of samples (3). n_quantiles is set to n_samples.\n",
            "  warnings.warn(\n"
          ]
        }
      ]
    },
    {
      "cell_type": "markdown",
      "source": [
        "How do we split data for model fitting (training and testing) in Python?\n",
        "How do you approach a Machine Learning problem?"
      ],
      "metadata": {
        "id": "Uo1V5_k-qLiX"
      }
    },
    {
      "cell_type": "code",
      "source": [
        "from sklearn.model_selection import train_test_split\n",
        "import numpy as np\n",
        "\n",
        "# Example dataset\n",
        "X = np.array([[1, 2], [3, 4], [5, 6], [7, 8], [9, 10]])\n",
        "y = np.array([1, 0, 1, 0, 1])\n",
        "\n",
        "# Split the data into training and testing sets (80% train, 20% test)\n",
        "X_train, X_test, y_train, y_test = train_test_split(X, y, test_size=0.2, random_state=42)\n",
        "\n",
        "print(\"Training features:\", X_train)\n",
        "print(\"Test features:\", X_test)\n",
        "print(\"Training labels:\", y_train)\n",
        "print(\"Test labels:\", y_test)\n"
      ],
      "metadata": {
        "colab": {
          "base_uri": "https://localhost:8080/"
        },
        "id": "ny6ERF-MqMnZ",
        "outputId": "a7b92ef7-9e3f-4b34-d6a5-b19eca7bf818"
      },
      "execution_count": 26,
      "outputs": [
        {
          "output_type": "stream",
          "name": "stdout",
          "text": [
            "Training features: [[ 9 10]\n",
            " [ 5  6]\n",
            " [ 1  2]\n",
            " [ 7  8]]\n",
            "Test features: [[3 4]]\n",
            "Training labels: [1 1 1 0]\n",
            "Test labels: [0]\n"
          ]
        }
      ]
    },
    {
      "cell_type": "markdown",
      "source": [
        "What is correlation?\n"
      ],
      "metadata": {
        "id": "G6yP1HMYqq5h"
      }
    },
    {
      "cell_type": "code",
      "source": [
        "import pandas as pd\n",
        "\n",
        "# Example dataset\n",
        "data = {'height': [150, 160, 170, 180, 190],\n",
        "        'weight': [50, 60, 70, 80, 90]}\n",
        "\n",
        "df = pd.DataFrame(data)\n",
        "\n",
        "# Pearson correlation\n",
        "correlation = df['height'].corr(df['weight'])\n",
        "print(correlation)  # Output: 1.0 (perfect positive correlation)\n"
      ],
      "metadata": {
        "colab": {
          "base_uri": "https://localhost:8080/"
        },
        "id": "na48fVRtqroW",
        "outputId": "344cf7c1-6fb4-46c5-d9a6-446ef7f47fd0"
      },
      "execution_count": 27,
      "outputs": [
        {
          "output_type": "stream",
          "name": "stdout",
          "text": [
            "1.0\n"
          ]
        }
      ]
    },
    {
      "cell_type": "markdown",
      "source": [
        "What does negative correlation mean?\n"
      ],
      "metadata": {
        "id": "QxqHUY_Jq-B5"
      }
    },
    {
      "cell_type": "code",
      "source": [
        "import pandas as pd\n",
        "\n",
        "# Example dataset with a negative correlation\n",
        "data = {'study_hours': [1, 2, 3, 4, 5],\n",
        "        'errors': [20, 16, 12, 8, 4]}\n",
        "\n",
        "df = pd.DataFrame(data)\n",
        "\n",
        "# Calculate correlation\n",
        "correlation = df['study_hours'].corr(df['errors'])\n",
        "print(correlation)  # Output: Negative correlation (close to -1)\n"
      ],
      "metadata": {
        "colab": {
          "base_uri": "https://localhost:8080/"
        },
        "id": "l3K6pDtVrC0R",
        "outputId": "51099a36-70b0-4a24-a659-8713b3a0bd0d"
      },
      "execution_count": 28,
      "outputs": [
        {
          "output_type": "stream",
          "name": "stdout",
          "text": [
            "-0.9999999999999999\n"
          ]
        }
      ]
    },
    {
      "cell_type": "markdown",
      "source": [
        "How can you find correlation between variables in Python?\n"
      ],
      "metadata": {
        "id": "0REWyHeHroky"
      }
    },
    {
      "cell_type": "code",
      "source": [
        "import pandas as pd\n",
        "\n",
        "# Example dataset\n",
        "data = {\n",
        "    'height': [150, 160, 170, 180, 190],\n",
        "    'weight': [50, 60, 70, 80, 90],\n",
        "    'age': [20, 25, 30, 35, 40]\n",
        "}\n",
        "\n",
        "df = pd.DataFrame(data)\n",
        "\n",
        "# Calculate correlation between 'height' and 'weight'\n",
        "correlation = df['height'].corr(df['weight'])\n",
        "print(f\"Correlation between height and weight: {correlation}\")\n",
        "\n",
        "# Calculate correlation matrix for all variables\n",
        "correlation_matrix = df.corr()\n",
        "print(\"Correlation matrix:\")\n",
        "print(correlation_matrix)\n"
      ],
      "metadata": {
        "colab": {
          "base_uri": "https://localhost:8080/"
        },
        "id": "IyKJBVYDrpQo",
        "outputId": "2b7c5421-134e-4aed-a1e4-e9d9990acb5d"
      },
      "execution_count": 29,
      "outputs": [
        {
          "output_type": "stream",
          "name": "stdout",
          "text": [
            "Correlation between height and weight: 1.0\n",
            "Correlation matrix:\n",
            "        height  weight  age\n",
            "height     1.0     1.0  1.0\n",
            "weight     1.0     1.0  1.0\n",
            "age        1.0     1.0  1.0\n"
          ]
        }
      ]
    },
    {
      "cell_type": "code",
      "source": [
        "import numpy as np\n",
        "\n",
        "# Example dataset\n",
        "height = np.array([150, 160, 170, 180, 190])\n",
        "weight = np.array([50, 60, 70, 80, 90])\n",
        "\n",
        "# Calculate correlation coefficient\n",
        "correlation_matrix = np.corrcoef(height, weight)\n",
        "print(correlation_matrix)\n"
      ],
      "metadata": {
        "colab": {
          "base_uri": "https://localhost:8080/"
        },
        "id": "VCbWoc8srvkR",
        "outputId": "9f9c7855-6c35-49bc-f1ee-d01e3edd47f2"
      },
      "execution_count": 30,
      "outputs": [
        {
          "output_type": "stream",
          "name": "stdout",
          "text": [
            "[[1. 1.]\n",
            " [1. 1.]]\n"
          ]
        }
      ]
    },
    {
      "cell_type": "code",
      "source": [
        "from scipy.stats import pearsonr\n",
        "\n",
        "# Example dataset\n",
        "height = [150, 160, 170, 180, 190]\n",
        "weight = [50, 60, 70, 80, 90]\n",
        "\n",
        "# Calculate Pearson correlation and p-value\n",
        "correlation, p_value = pearsonr(height, weight)\n",
        "print(f\"Pearson correlation: {correlation}\")\n",
        "print(f\"P-value: {p_value}\")\n"
      ],
      "metadata": {
        "colab": {
          "base_uri": "https://localhost:8080/"
        },
        "id": "h_MftjH0ryHC",
        "outputId": "6550d645-d89e-49e3-a563-d8ea975a1024"
      },
      "execution_count": 31,
      "outputs": [
        {
          "output_type": "stream",
          "name": "stdout",
          "text": [
            "Pearson correlation: 1.0\n",
            "P-value: 0.0\n"
          ]
        }
      ]
    },
    {
      "cell_type": "code",
      "source": [
        "import seaborn as sns\n",
        "import matplotlib.pyplot as plt\n",
        "\n",
        "# Example dataset\n",
        "data = {\n",
        "    'height': [150, 160, 170, 180, 190],\n",
        "    'weight': [50, 60, 70, 80, 90],\n",
        "    'age': [20, 25, 30, 35, 40]\n",
        "}\n",
        "\n",
        "df = pd.DataFrame(data)\n",
        "\n",
        "# Plot correlation matrix\n",
        "sns.heatmap(df.corr(), annot=True, cmap='coolwarm', fmt='.2f')\n",
        "plt.show()\n"
      ],
      "metadata": {
        "colab": {
          "base_uri": "https://localhost:8080/",
          "height": 435
        },
        "id": "OjdG86C3r0jT",
        "outputId": "6934813c-1c0a-4fa8-a185-3103e4d9832a"
      },
      "execution_count": 32,
      "outputs": [
        {
          "output_type": "display_data",
          "data": {
            "text/plain": [
              "<Figure size 640x480 with 2 Axes>"
            ],
            "image/png": "[encoded data removed]"
          },
          "metadata": {}
        }
      ]
    },
    {
      "cell_type": "markdown",
      "source": [
        "What is an Optimizer? What are different types of optimizers? Explain each with an example.\n"
      ],
      "metadata": {
        "id": "vMnZrL5ns8n7"
      }
    },
    {
      "cell_type": "code",
      "source": [
        "# Using SGD from sklearn\n",
        "from sklearn.linear_model import SGDClassifier\n",
        "\n",
        "model = SGDClassifier(loss=\"log\", max_iter=1000, tol=1e-3)\n",
        "model.fit(X_train, y_train)\n",
        "\n",
        "\n",
        "# Using SGD in Keras\n",
        "from keras.optimizers import SGD\n",
        "\n",
        "optimizer = SGD(lr=0.01, momentum=0.9)\n",
        "model.compile(optimizer=optimizer, loss='binary_crossentropy')\n",
        "\n",
        "\n",
        "# Using SGD with Momentum in Keras\n",
        "from keras.optimizers import SGD\n",
        "\n",
        "optimizer = SGD(lr=0.01, momentum=0.9)\n",
        "model.compile(optimizer=optimizer, loss='binary_crossentropy')\n",
        "\n",
        "\n",
        "# Using Nesterov in Keras\n",
        "from keras.optimizers import SGD\n",
        "\n",
        "optimizer = SGD(lr=0.01, momentum=0.9, nesterov=True)\n",
        "model.compile(optimizer=optimizer, loss='binary_crossentropy')\n",
        "\n",
        "\n",
        "# Using Adagrad in Keras\n",
        "from keras.optimizers import Adagrad\n",
        "\n",
        "optimizer = Adagrad(lr=0.01)\n",
        "model.compile(optimizer=optimizer, loss='binary_crossentropy')\n",
        "\n",
        "\n",
        "# Using RMSprop in Keras\n",
        "from keras.optimizers import RMSprop\n",
        "\n",
        "optimizer = RMSprop(lr=0.001)\n",
        "model.compile(optimizer=optimizer, loss='binary_crossentropy')\n",
        "\n",
        "\n",
        "# Using Adam in Keras\n",
        "from keras.optimizers import Adam\n",
        "\n",
        "optimizer = Adam(lr=0.001)\n",
        "model.compile(optimizer=optimizer, loss='binary_crossentropy')\n",
        "\n",
        "\n",
        "# Using Adadelta in Keras\n",
        "from keras.optimizers import Adadelta\n",
        "\n",
        "optimizer = Adadelta(lr=1.0)\n",
        "model.compile(optimizer=optimizer, loss='binary_crossentropy')\n"
      ],
      "metadata": {
        "id": "S3rzFYEUtDL-"
      },
      "execution_count": null,
      "outputs": []
    },
    {
      "cell_type": "markdown",
      "source": [
        "What does model.fit() do? What arguments must be given?\n"
      ],
      "metadata": {
        "id": "k46B0Vatw8nc"
      }
    },
    {
      "cell_type": "code",
      "source": [
        "from sklearn.linear_model import LinearRegression\n",
        "\n",
        "# Training data (X: input features, y: target)\n",
        "X_train = [[2, 1500], [3, 1800], [4, 2200], [5, 2500]]  # Features: [bedrooms, square footage]\n",
        "y_train = [300000, 400000, 500000, 600000]  # Target: prices\n",
        "\n",
        "# Create and fit the model\n",
        "model = LinearRegression()\n",
        "model.fit(X_train, y_train)\n",
        "\n",
        "# After training, you can use the model to make predictions\n",
        "predictions = model.predict([[6, 3000]])\n",
        "print(predictions)  # Predict the price for a 6-bedroom, 3000 sq ft house\n"
      ],
      "metadata": {
        "colab": {
          "base_uri": "https://localhost:8080/"
        },
        "id": "MTaF34WMwKr2",
        "outputId": "d2d79b3f-0af3-4049-f7a3-9ded7b18305a"
      },
      "execution_count": 34,
      "outputs": [
        {
          "output_type": "stream",
          "name": "stdout",
          "text": [
            "[700000.]\n"
          ]
        }
      ]
    },
    {
      "cell_type": "markdown",
      "source": [
        "What does model.predict() do? What arguments must be given?\n"
      ],
      "metadata": {
        "id": "T0Utx5wExA-N"
      }
    },
    {
      "cell_type": "code",
      "source": [
        "from sklearn.linear_model import LinearRegression\n",
        "\n",
        "# Training data (X: input features, y: target)\n",
        "X_train = [[2, 1500], [3, 1800], [4, 2200], [5, 2500]]  # Features: [bedrooms, square footage]\n",
        "y_train = [300000, 400000, 500000, 600000]  # Target: house prices\n",
        "\n",
        "# Create and fit the model\n",
        "model = LinearRegression()\n",
        "model.fit(X_train, y_train)\n",
        "\n",
        "# New data for prediction (X_test)\n",
        "X_test = [[6, 3000]]  # 6 bedrooms, 3000 sq ft house\n",
        "\n",
        "# Predict the target value (house price) for the new data\n",
        "predictions = model.predict(X_test)\n",
        "\n",
        "# Output the prediction\n",
        "print(predictions)  # Predicted price for a 6-bedroom, 3000 sq ft house\n"
      ],
      "metadata": {
        "colab": {
          "base_uri": "https://localhost:8080/"
        },
        "id": "VlEZpuLexGVU",
        "outputId": "08ff60f2-84bd-430c-c290-4b81e2e620c6"
      },
      "execution_count": 35,
      "outputs": [
        {
          "output_type": "stream",
          "name": "stdout",
          "text": [
            "[700000.]\n"
          ]
        }
      ]
    },
    {
      "cell_type": "markdown",
      "source": [
        "What is feature scaling? How does it help in Machine Learning?\n"
      ],
      "metadata": {
        "id": "o8fuzqFWxu1O"
      }
    },
    {
      "cell_type": "code",
      "source": [
        "from sklearn.preprocessing import MinMaxScaler, StandardScaler\n",
        "import numpy as np\n",
        "\n",
        "# Example data (two features)\n",
        "X = np.array([[1, 2], [2, 4], [3, 6], [4, 8], [5, 10]])\n",
        "\n",
        "# 1. Normalization (Min-Max Scaling)\n",
        "scaler = MinMaxScaler()\n",
        "X_scaled_normalized = scaler.fit_transform(X)\n",
        "print(\"Normalized Data:\\n\", X_scaled_normalized)\n",
        "\n",
        "# 2. Standardization (Z-score Scaling)\n",
        "scaler = StandardScaler()\n",
        "X_scaled_standardized = scaler.fit_transform(X)\n",
        "print(\"Standardized Data:\\n\", X_scaled_standardized)\n"
      ],
      "metadata": {
        "colab": {
          "base_uri": "https://localhost:8080/"
        },
        "id": "5K0mibO_xvl3",
        "outputId": "d1719c01-5982-4d38-a64b-9314574655f1"
      },
      "execution_count": 36,
      "outputs": [
        {
          "output_type": "stream",
          "name": "stdout",
          "text": [
            "Normalized Data:\n",
            " [[0.   0.  ]\n",
            " [0.25 0.25]\n",
            " [0.5  0.5 ]\n",
            " [0.75 0.75]\n",
            " [1.   1.  ]]\n",
            "Standardized Data:\n",
            " [[-1.41421356 -1.41421356]\n",
            " [-0.70710678 -0.70710678]\n",
            " [ 0.          0.        ]\n",
            " [ 0.70710678  0.70710678]\n",
            " [ 1.41421356  1.41421356]]\n"
          ]
        }
      ]
    },
    {
      "cell_type": "markdown",
      "source": [
        "How do we perform scaling in Python?\n"
      ],
      "metadata": {
        "id": "zLE5kZW_x5Td"
      }
    },
    {
      "cell_type": "code",
      "source": [
        "from sklearn.preprocessing import MinMaxScaler\n",
        "import numpy as np\n",
        "\n",
        "# Sample data (e.g., features like Age, Salary)\n",
        "X = np.array([[1, 2000], [2, 3000], [3, 4000], [4, 5000], [5, 6000]])\n",
        "\n",
        "# Initialize the MinMaxScaler\n",
        "scaler = MinMaxScaler()\n",
        "\n",
        "# Fit the scaler on the data and transform it\n",
        "X_scaled = scaler.fit_transform(X)\n",
        "\n",
        "print(\"Normalized (Min-Max Scaled) Data:\")\n",
        "print(X_scaled)\n"
      ],
      "metadata": {
        "colab": {
          "base_uri": "https://localhost:8080/"
        },
        "id": "Vii-qFo7x58x",
        "outputId": "cee28ae5-7ebd-4569-eafe-64cbbef89ca1"
      },
      "execution_count": 37,
      "outputs": [
        {
          "output_type": "stream",
          "name": "stdout",
          "text": [
            "Normalized (Min-Max Scaled) Data:\n",
            "[[0.   0.  ]\n",
            " [0.25 0.25]\n",
            " [0.5  0.5 ]\n",
            " [0.75 0.75]\n",
            " [1.   1.  ]]\n"
          ]
        }
      ]
    },
    {
      "cell_type": "code",
      "source": [
        "from sklearn.preprocessing import StandardScaler\n",
        "import numpy as np\n",
        "\n",
        "# Sample data (e.g., features like Age, Salary)\n",
        "X = np.array([[1, 2000], [2, 3000], [3, 4000], [4, 5000], [5, 6000]])\n",
        "\n",
        "# Initialize the StandardScaler\n",
        "scaler = StandardScaler()\n",
        "\n",
        "# Fit the scaler on the data and transform it\n",
        "X_scaled = scaler.fit_transform(X)\n",
        "\n",
        "print(\"Standardized (Z-score Scaled) Data:\")\n",
        "print(X_scaled)\n"
      ],
      "metadata": {
        "colab": {
          "base_uri": "https://localhost:8080/"
        },
        "id": "lwFOnnU-x-qL",
        "outputId": "7027a5c5-18de-46e3-e175-e9a0d9545b93"
      },
      "execution_count": 38,
      "outputs": [
        {
          "output_type": "stream",
          "name": "stdout",
          "text": [
            "Standardized (Z-score Scaled) Data:\n",
            "[[-1.41421356 -1.41421356]\n",
            " [-0.70710678 -0.70710678]\n",
            " [ 0.          0.        ]\n",
            " [ 0.70710678  0.70710678]\n",
            " [ 1.41421356  1.41421356]]\n"
          ]
        }
      ]
    },
    {
      "cell_type": "code",
      "source": [
        "from sklearn.pipeline import Pipeline\n",
        "from sklearn.preprocessing import StandardScaler\n",
        "from sklearn.linear_model import LogisticRegression\n",
        "from sklearn.model_selection import train_test_split\n",
        "from sklearn.datasets import load_iris\n",
        "\n",
        "# Load dataset\n",
        "data = load_iris()\n",
        "X = data.data\n",
        "y = data.target\n",
        "\n",
        "# Split data into training and testing sets\n",
        "X_train, X_test, y_train, y_test = train_test_split(X, y, test_size=0.2, random_state=42)\n",
        "\n",
        "# Create a pipeline that includes scaling and model training\n",
        "pipeline = Pipeline([\n",
        "    ('scaler', StandardScaler()),  # Step 1: Standardize the features\n",
        "    ('model', LogisticRegression())  # Step 2: Train a logistic regression model\n",
        "])\n",
        "\n",
        "# Train the pipeline\n",
        "pipeline.fit(X_train, y_train)\n",
        "\n",
        "# Make predictions\n",
        "predictions = pipeline.predict(X_test)\n",
        "\n",
        "print(\"Predictions on Test Data:\", predictions)\n"
      ],
      "metadata": {
        "colab": {
          "base_uri": "https://localhost:8080/"
        },
        "id": "jFxkAXblyDL0",
        "outputId": "d54266dd-ef8c-4f3b-d498-facfc5129a7d"
      },
      "execution_count": 39,
      "outputs": [
        {
          "output_type": "stream",
          "name": "stdout",
          "text": [
            "Predictions on Test Data: [1 0 2 1 1 0 1 2 1 1 2 0 0 0 0 1 2 1 1 2 0 2 0 2 2 2 2 2 0 0]\n"
          ]
        }
      ]
    },
    {
      "cell_type": "code",
      "source": [
        "# Inverse transform to get the original data\n",
        "X_original = scaler.inverse_transform(X_scaled)\n",
        "print(\"Inverse Transformed Data (Original):\")\n",
        "print(X_original)\n"
      ],
      "metadata": {
        "colab": {
          "base_uri": "https://localhost:8080/"
        },
        "id": "vexkHDo9yH2d",
        "outputId": "d40073f3-7845-4992-ade3-f4d3e84ac40c"
      },
      "execution_count": 40,
      "outputs": [
        {
          "output_type": "stream",
          "name": "stdout",
          "text": [
            "Inverse Transformed Data (Original):\n",
            "[[1.e+00 2.e+03]\n",
            " [2.e+00 3.e+03]\n",
            " [3.e+00 4.e+03]\n",
            " [4.e+00 5.e+03]\n",
            " [5.e+00 6.e+03]]\n"
          ]
        }
      ]
    },
    {
      "cell_type": "markdown",
      "source": [
        "Explain data encoding?"
      ],
      "metadata": {
        "id": "PWz4MQSxy_Ij"
      }
    },
    {
      "cell_type": "code",
      "source": [
        "from sklearn.preprocessing import LabelEncoder\n",
        "\n",
        "# Example data\n",
        "categories = ['Red', 'Blue', 'Green', 'Blue', 'Green']\n",
        "\n",
        "# Initialize label encoder\n",
        "label_encoder = LabelEncoder()\n",
        "\n",
        "# Fit and transform data\n",
        "encoded_labels = label_encoder.fit_transform(categories)\n",
        "\n",
        "print(encoded_labels)\n"
      ],
      "metadata": {
        "colab": {
          "base_uri": "https://localhost:8080/"
        },
        "id": "cXlZpHlsy_xC",
        "outputId": "3cb5dc87-faf0-43f9-cdc4-ffff5b4e3932"
      },
      "execution_count": 41,
      "outputs": [
        {
          "output_type": "stream",
          "name": "stdout",
          "text": [
            "[2 0 1 0 1]\n"
          ]
        }
      ]
    },
    {
      "cell_type": "code",
      "source": [
        "import pandas as pd\n",
        "\n",
        "# Example data\n",
        "data = {'Color': ['Red', 'Blue', 'Green', 'Blue', 'Green']}\n",
        "df = pd.DataFrame(data)\n",
        "\n",
        "# Apply one-hot encoding\n",
        "df_encoded = pd.get_dummies(df, columns=['Color'])\n",
        "\n",
        "print(df_encoded)\n"
      ],
      "metadata": {
        "colab": {
          "base_uri": "https://localhost:8080/"
        },
        "id": "U9ztcEvbzE1u",
        "outputId": "7428f0a9-30f0-410b-fa81-37a44871eb92"
      },
      "execution_count": 42,
      "outputs": [
        {
          "output_type": "stream",
          "name": "stdout",
          "text": [
            "   Color_Blue  Color_Green  Color_Red\n",
            "0       False        False       True\n",
            "1        True        False      False\n",
            "2       False         True      False\n",
            "3        True        False      False\n",
            "4       False         True      False\n"
          ]
        }
      ]
    },
    {
      "cell_type": "code",
      "source": [
        "import pandas as pd\n",
        "\n",
        "# Example data\n",
        "data = {'Size': ['Small', 'Medium', 'Large', 'Medium', 'Small']}\n",
        "df = pd.DataFrame(data)\n",
        "\n",
        "# Create a mapping dictionary\n",
        "size_map = {'Small': 0, 'Medium': 1, 'Large': 2}\n",
        "\n",
        "# Apply ordinal encoding\n",
        "df['Size_encoded'] = df['Size'].map(size_map)\n",
        "\n",
        "print(df)\n"
      ],
      "metadata": {
        "colab": {
          "base_uri": "https://localhost:8080/"
        },
        "id": "aA4vbOPHzJZ-",
        "outputId": "42175048-1db5-417a-f92b-b3e8ae73237b"
      },
      "execution_count": 43,
      "outputs": [
        {
          "output_type": "stream",
          "name": "stdout",
          "text": [
            "     Size  Size_encoded\n",
            "0   Small             0\n",
            "1  Medium             1\n",
            "2   Large             2\n",
            "3  Medium             1\n",
            "4   Small             0\n"
          ]
        }
      ]
    }
  ]
}