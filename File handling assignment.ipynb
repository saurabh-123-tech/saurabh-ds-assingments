{
  "nbformat": 4,
  "nbformat_minor": 0,
  "metadata": {
    "colab": {
      "provenance": []
    },
    "kernelspec": {
      "name": "python3",
      "display_name": "Python 3"
    },
    "language_info": {
      "name": "python"
    }
  },
  "cells": [
    {
      "cell_type": "code",
      "execution_count": 1,
      "metadata": {
        "colab": {
          "base_uri": "https://localhost:8080/"
        },
        "id": "qaF-gF3_iSPD",
        "outputId": "ded59f37-7ea2-479c-b201-ff1b8073fb62"
      },
      "outputs": [
        {
          "output_type": "stream",
          "name": "stdout",
          "text": [
            "Added: 0\n",
            "Current list (add_numbers): [0]\n",
            "Removed: 0\n",
            "Current list (remove_numbers): []\n",
            "Added: 1\n",
            "Current list (add_numbers): [1]\n",
            "Removed: 1\n",
            "Current list (remove_numbers): []\n",
            "Added: 2\n",
            "Current list (add_numbers): [2]\n",
            "Added: 3\n",
            "Current list (add_numbers): [2, 3]\n",
            "Removed: 2\n",
            "Current list (remove_numbers): [3]\n",
            "Added: 4\n",
            "Current list (add_numbers): [3, 4]\n",
            "Removed: 3\n",
            "Current list (remove_numbers): [4]\n",
            "Added: 5\n",
            "Current list (add_numbers): [4, 5]\n",
            "Added: 6\n",
            "Current list (add_numbers): [4, 5, 6]\n",
            "Removed: 4\n",
            "Current list (remove_numbers): [5, 6]\n",
            "Added: 7\n",
            "Current list (add_numbers): [5, 6, 7]\n",
            "Removed: 5\n",
            "Current list (remove_numbers): [6, 7]\n",
            "Added: 8\n",
            "Current list (add_numbers): [6, 7, 8]\n",
            "Added: 9\n",
            "Current list (add_numbers): [6, 7, 8, 9]\n",
            "Removed: 6\n",
            "Current list (remove_numbers): [7, 8, 9]\n",
            "Removed: 7\n",
            "Current list (remove_numbers): [8, 9]\n",
            "Removed: 8\n",
            "Current list (remove_numbers): [9]\n",
            "Removed: 9\n",
            "Current list (remove_numbers): []\n",
            "Final state of the list: []\n"
          ]
        }
      ],
      "source": [
        "4. Write a Python program using multithreading where one thread adds numbers to a list, and another thread removes numbers from the list. Implement a mechanism to avoid race conditions using threading.Lock.\n",
        "\n",
        "import threading\n",
        "import time\n",
        "\n",
        "# Shared resources\n",
        "number_list = []\n",
        "lock = threading.Lock()\n",
        "\n",
        "def add_numbers():\n",
        "    for i in range(10):\n",
        "        time.sleep(0.1)  # Simulate some work\n",
        "        with lock:  # Ensure that only one thread modifies the list at a time\n",
        "            number_list.append(i)\n",
        "            print(f\"Added: {i}\")\n",
        "        # Print the current state of the list\n",
        "        print(f\"Current list (add_numbers): {number_list}\")\n",
        "\n",
        "def remove_numbers():\n",
        "    for i in range(10):\n",
        "        time.sleep(0.15)  # Simulate some work\n",
        "        with lock:  # Ensure that only one thread modifies the list at a time\n",
        "            if number_list:\n",
        "                removed_number = number_list.pop(0)\n",
        "                print(f\"Removed: {removed_number}\")\n",
        "            else:\n",
        "                print(\"List is empty, nothing to remove.\")\n",
        "        # Print the current state of the list\n",
        "        print(f\"Current list (remove_numbers): {number_list}\")\n",
        "\n",
        "# Create threads\n",
        "add_thread = threading.Thread(target=add_numbers)\n",
        "remove_thread = threading.Thread(target=remove_numbers)\n",
        "\n",
        "# Start threads\n",
        "add_thread.start()\n",
        "remove_thread.start()\n",
        "\n",
        "# Wait for both threads to complete\n",
        "add_thread.join()\n",
        "remove_thread.join()\n",
        "\n",
        "print(\"Final state of the list:\", number_list)\n"
      ]
    },
    {
      "cell_type": "code",
      "source": [
        "7. Create a program that uses a thread pool to calculate the factorial of numbers from 1 to 10 concurrently. Use concurrent.futures.ThreadPoolExecutor to manage the threads.\n",
        "\n",
        "import concurrent.futures\n",
        "import math\n",
        "\n",
        "def calculate_factorial(n):\n",
        "    \"\"\"Calculate the factorial of a given number.\"\"\"\n",
        "    return math.factorial(n)\n",
        "\n",
        "def main():\n",
        "    numbers = range(1, 11)  # Numbers from 1 to 10\n",
        "\n",
        "    # Create a ThreadPoolExecutor with a number of workers (threads)\n",
        "    with concurrent.futures.ThreadPoolExecutor() as executor:\n",
        "        # Map the calculate_factorial function to the numbers\n",
        "        futures = {executor.submit(calculate_factorial, num): num for num in numbers}\n",
        "\n",
        "        # Retrieve and print the results as they complete\n",
        "        for future in concurrent.futures.as_completed(futures):\n",
        "            num = futures[future]\n",
        "            try:\n",
        "                result = future.result()\n",
        "                print(f\"Factorial of {num} is {result}\")\n",
        "            except Exception as exc:\n",
        "                print(f\"Factorial computation for {num} generated an exception: {exc}\")\n",
        "\n",
        "if __name__ == \"__main__\":\n",
        "    main()\n"
      ],
      "metadata": {
        "colab": {
          "base_uri": "https://localhost:8080/"
        },
        "id": "EUcMV5IajZH2",
        "outputId": "fb78e31f-1425-4be0-fa7b-3789a5c603d9"
      },
      "execution_count": 2,
      "outputs": [
        {
          "output_type": "stream",
          "name": "stdout",
          "text": [
            "Factorial of 7 is 5040\n",
            "Factorial of 2 is 2\n",
            "Factorial of 1 is 1\n",
            "Factorial of 9 is 362880\n",
            "Factorial of 5 is 120\n",
            "Factorial of 4 is 24\n",
            "Factorial of 3 is 6\n",
            "Factorial of 8 is 40320\n",
            "Factorial of 6 is 720\n",
            "Factorial of 10 is 3628800\n"
          ]
        }
      ]
    },
    {
      "cell_type": "code",
      "source": [
        "8. Create a Python program that uses multiprocessing.Pool to compute the square of numbers from 1 to 10 in parallel. Measure the time taken to perform this computation using a pool of different sizes (e.g., 2, 4, 8 processes).\n",
        "\n",
        "import multiprocessing\n",
        "import time\n",
        "\n",
        "def compute_square(n):\n",
        "    \"\"\"Compute the square of a given number.\"\"\"\n",
        "    return n * n\n",
        "\n",
        "def measure_time(pool_size):\n",
        "    \"\"\"Measure time taken to compute squares with a given pool size.\"\"\"\n",
        "    numbers = list(range(1, 11))  # Numbers from 1 to 10\n",
        "\n",
        "    # Create a Pool with the specified number of processes\n",
        "    with multiprocessing.Pool(processes=pool_size) as pool:\n",
        "        start_time = time.time()\n",
        "        results = pool.map(compute_square, numbers)\n",
        "        end_time = time.time()\n",
        "\n",
        "    # Return the time taken and the results for verification\n",
        "    time_taken = end_time - start_time\n",
        "    return time_taken, results\n",
        "\n",
        "def main():\n",
        "    pool_sizes = [2, 4, 8]  # Different pool sizes to test\n",
        "\n",
        "    for size in pool_sizes:\n",
        "        print(f\"Testing with pool size: {size}\")\n",
        "        time_taken, results = measure_time(size)\n",
        "        print(f\"Time taken with pool size {size}: {time_taken:.4f} seconds\")\n",
        "        print(f\"Results: {results}\")\n",
        "        print(\"-\" * 40)\n",
        "\n",
        "if __name__ == \"__main__\":\n",
        "    main()\n"
      ],
      "metadata": {
        "colab": {
          "base_uri": "https://localhost:8080/"
        },
        "id": "MWgo0oLtkunM",
        "outputId": "eb8823f3-0583-4241-c7fe-3da6181fa865"
      },
      "execution_count": 3,
      "outputs": [
        {
          "output_type": "stream",
          "name": "stdout",
          "text": [
            "Testing with pool size: 2\n",
            "Time taken with pool size 2: 0.0021 seconds\n",
            "Results: [1, 4, 9, 16, 25, 36, 49, 64, 81, 100]\n",
            "----------------------------------------\n",
            "Testing with pool size: 4\n",
            "Time taken with pool size 4: 0.0088 seconds\n",
            "Results: [1, 4, 9, 16, 25, 36, 49, 64, 81, 100]\n",
            "----------------------------------------\n",
            "Testing with pool size: 8\n",
            "Time taken with pool size 8: 0.0030 seconds\n",
            "Results: [1, 4, 9, 16, 25, 36, 49, 64, 81, 100]\n",
            "----------------------------------------\n"
          ]
        }
      ]
    },
    {
      "cell_type": "code",
      "source": [],
      "metadata": {
        "id": "Lj6vtzUNlDak"
      },
      "execution_count": null,
      "outputs": []
    }
  ]
}