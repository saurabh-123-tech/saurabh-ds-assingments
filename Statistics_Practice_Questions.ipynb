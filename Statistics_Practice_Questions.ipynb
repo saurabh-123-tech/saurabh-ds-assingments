{
  "nbformat": 4,
  "nbformat_minor": 0,
  "metadata": {
    "colab": {
      "provenance": []
    },
    "kernelspec": {
      "name": "python3",
      "display_name": "Python 3"
    },
    "language_info": {
      "name": "python"
    }
  },
  "cells": [
    {
      "cell_type": "markdown",
      "source": [
        "1= Generate a list of 100 integers containing values between 90 to 130 and store it in the variable `int_list`.\n",
        "After generating the list, find the following:\n",
        "\n",
        "  \n",
        "\n",
        "  (i) Write a Python function to calculate the mean of a given list of numbers.\n",
        "\n",
        "Create a function to find the median of a list of numbers.\n",
        "\n",
        "  \n",
        "\n",
        "  (ii) Develop a program to compute the mode of a list of integers.\n",
        "\n",
        "  \n",
        "\n",
        "  (iii) Implement a function to calculate the weighted mean of a list of values and their corresponding weights.\n",
        "\n",
        "  \n",
        "\n",
        "  (iv) Write a Python function to find the geometric mean of a list of positive numbers.\n",
        "\n",
        "  \n",
        "\n",
        "  (v) Create a program to calculate the harmonic mean of a list of values.\n",
        "\n",
        "  \n",
        "\n",
        "  (vi) Build a function to determine the midrange of a list of numbers (average of the minimum and maximum).\n",
        "\n",
        "  \n",
        "\n",
        "  (vii) Implement a Python program to find the trimmed mean of a list, excluding a certain percentage of\n",
        "outliers"
      ],
      "metadata": {
        "id": "KGfvizdpZ71O"
      }
    },
    {
      "cell_type": "code",
      "source": [
        "import random\n",
        "\n",
        "# Generate a list of 100 integers between 90 and 130\n",
        "int_list = [random.randint(90, 130) for _ in range(100)]\n",
        "\n",
        "def calculate_mean(numbers):\n",
        "    return sum(numbers) / len(numbers) if numbers else 0\n",
        "\n",
        "def calculate_median(numbers):\n",
        "    sorted_numbers = sorted(numbers)\n",
        "    n = len(sorted_numbers)\n",
        "    mid = n // 2\n",
        "    if n % 2 == 0:\n",
        "        return (sorted_numbers[mid - 1] + sorted_numbers[mid]) / 2\n",
        "    else:\n",
        "        return sorted_numbers[mid]\n",
        "\n",
        "from collections import Counter\n",
        "\n",
        "def calculate_mode(numbers):\n",
        "    if not numbers:\n",
        "        return []\n",
        "    count = Counter(numbers)\n",
        "    max_count = max(count.values())\n",
        "    return [num for num, freq in count.items() if freq == max_count]\n",
        "\n",
        "def calculate_weighted_mean(values, weights):\n",
        "    if len(values) != len(weights) or len(values) == 0:\n",
        "        return 0\n",
        "    return sum(v * w for v, w in zip(values, weights)) / sum(weights)\n",
        "\n",
        "def calculate_geometric_mean(numbers):\n",
        "    if not numbers or any(n <= 0 for n in numbers):\n",
        "        return 0\n",
        "    product = 1\n",
        "    for num in numbers:\n",
        "        product *= num\n",
        "    return product ** (1 / len(numbers))\n",
        "\n",
        "def calculate_harmonic_mean(numbers):\n",
        "    if not numbers or any(n <= 0 for n in numbers):\n",
        "        return 0\n",
        "    return len(numbers) / sum(1 / num for num in numbers)\n",
        "\n",
        "def calculate_midrange(numbers):\n",
        "    if not numbers:\n",
        "        return 0\n",
        "    return (min(numbers) + max(numbers)) / 2\n",
        "\n",
        "def calculate_trimmed_mean(numbers, trim_percent):\n",
        "    if not numbers or trim_percent < 0 or trim_percent >= 100:\n",
        "        return 0\n",
        "    n = len(numbers)\n",
        "    k = int(n * trim_percent / 100)\n",
        "    trimmed_numbers = sorted(numbers)[k:n-k]\n",
        "    return calculate_mean(trimmed_numbers)\n",
        "\n"
      ],
      "metadata": {
        "colab": {
          "base_uri": "https://localhost:8080/"
        },
        "id": "w3MaBHY-Z9n5",
        "outputId": "87cc0dd9-73df-47fd-f8a8-40051c4acf60"
      },
      "execution_count": 16,
      "outputs": [
        {
          "output_type": "stream",
          "name": "stdout",
          "text": [
            "Expected Value: 3.4919\n",
            "Variance: 2.96033439\n"
          ]
        }
      ]
    },
    {
      "cell_type": "code",
      "source": [
        "# Generate the integer list\n",
        "int_list = [random.randint(90, 130) for _ in range(100)]\n",
        "\n",
        "# Calculate various statistics\n",
        "mean = calculate_mean(int_list)\n",
        "median = calculate_median(int_list)\n",
        "mode = calculate_mode(int_list)\n",
        "weighted_mean = calculate_weighted_mean(int_list, [1]*100)  # Using equal weights as an example\n",
        "geometric_mean = calculate_geometric_mean([num for num in int_list if num > 0])\n",
        "harmonic_mean = calculate_harmonic_mean([num for num in int_list if num > 0])\n",
        "midrange = calculate_midrange(int_list)\n",
        "trimmed_mean = calculate_trimmed_mean(int_list, 10)  # 10% trimming\n",
        "\n",
        "# Display results\n",
        "print(f\"Mean: {mean}\")\n",
        "print(f\"Median: {median}\")\n",
        "print(f\"Mode: {mode}\")\n",
        "print(f\"Weighted Mean: {weighted_mean}\")\n",
        "print(f\"Geometric Mean: {geometric_mean}\")\n",
        "print(f\"Harmonic Mean: {harmonic_mean}\")\n",
        "print(f\"Midrange: {midrange}\")\n",
        "print(f\"Trimmed Mean: {trimmed_mean}\")\n"
      ],
      "metadata": {
        "colab": {
          "base_uri": "https://localhost:8080/"
        },
        "id": "p0JmdVpIbcam",
        "outputId": "a8c0946d-e5eb-4884-f879-8ccc4c092c36"
      },
      "execution_count": 11,
      "outputs": [
        {
          "output_type": "stream",
          "name": "stdout",
          "text": [
            "Mean: 110.97\n",
            "Median: 112.0\n",
            "Mode: [130]\n",
            "Weighted Mean: 110.97\n",
            "Geometric Mean: 110.24922802515196\n",
            "Harmonic Mean: 109.52201882172103\n",
            "Midrange: 110.0\n",
            "Trimmed Mean: 111.05\n"
          ]
        }
      ]
    },
    {
      "cell_type": "markdown",
      "source": [
        "2. Generate a list of 500 integers containing values between 200 to 300 and store it in the variable `int_list2`.\n",
        "After generating the list, find the following:\n",
        "\n",
        "\n",
        "  (i) Compare the given list of visualization for the given data:\n",
        "\n",
        "    \n",
        "\n",
        "    1. Frequency & Gaussian distribution\n",
        "\n",
        "    2. Frequency smoothened KDE plot\n",
        "\n",
        "    3. Gaussian distribution & smoothened KDE plot\n",
        "\n",
        "\n",
        "  (ii) Write a Python function to calculate the range of a given list of numbers.\n",
        "\n",
        "\n",
        "  (iii) Create a program to find the variance and standard deviation of a list of numbers.\n",
        "\n",
        "\n",
        "  (iv) Implement a function to compute the interquartile range (IQR) of a list of values.\n",
        "\n",
        "\n",
        "  (v) Build a program to calculate the coefficient of variation for a dataset.\n",
        "\n",
        "  \n",
        "\n",
        "  (vi) Write a Python function to find the mean absolute deviation (MAD) of a list of numbers.\n",
        "\n",
        "\n",
        "  (vii) Create a program to calculate the quartile deviation of a list of values.\n",
        "\n",
        "  \n",
        "\n",
        "  (viii) Implement a function to find the range-based coefficient of dispersion for a dataset"
      ],
      "metadata": {
        "id": "m9ohkHxubr1_"
      }
    },
    {
      "cell_type": "code",
      "source": [
        "import random\n",
        "\n",
        "# Generate a list of 500 integers between 200 and 300\n",
        "int_list2 = [random.randint(200, 300) for _ in range(500)]\n",
        "\n",
        "import matplotlib.pyplot as plt\n",
        "import seaborn as sns\n",
        "import numpy as np\n",
        "from scipy.stats import norm\n",
        "\n",
        "# Set up the figure\n",
        "plt.figure(figsize=(15, 10))\n",
        "\n",
        "# 1. Frequency Histogram\n",
        "plt.subplot(3, 1, 1)\n",
        "plt.hist(int_list2, bins=30, density=True, alpha=0.6, color='g', label='Histogram')\n",
        "plt.title('Frequency Distribution')\n",
        "plt.xlabel('Value')\n",
        "plt.ylabel('Density')\n",
        "\n",
        "# 2. Gaussian Distribution\n",
        "mu, std = norm.fit(int_list2)  # Fit a normal distribution\n",
        "xmin, xmax = plt.xlim()\n",
        "x = np.linspace(xmin, xmax, 100)\n",
        "p = norm.pdf(x, mu, std)\n",
        "plt.plot(x, p, 'k', linewidth=2, label='Gaussian Distribution')\n",
        "plt.legend()\n",
        "\n",
        "# 3. KDE Plot\n",
        "plt.subplot(3, 1, 2)\n",
        "sns.kdeplot(int_list2, bw_adjust=0.5, label='KDE', color='b')\n",
        "plt.title('KDE Plot')\n",
        "plt.xlabel('Value')\n",
        "plt.ylabel('Density')\n",
        "plt.legend()\n",
        "\n",
        "# 4. Gaussian and KDE together\n",
        "plt.subplot(3, 1, 3)\n",
        "sns.kdeplot(int_list2, bw_adjust=0.5, label='KDE', color='b')\n",
        "plt.plot(x, p, 'k', linewidth=2, label='Gaussian Distribution')\n",
        "plt.title('Gaussian & KDE Plot')\n",
        "plt.xlabel('Value')\n",
        "plt.ylabel('Density')\n",
        "plt.legend()\n",
        "\n",
        "plt.tight_layout()\n",
        "plt.show()\n",
        "\n",
        "def calculate_range(numbers):\n",
        "    return max(numbers) - min(numbers)\n",
        "\n",
        "def calculate_variance_and_stddev(numbers):\n",
        "    mean = sum(numbers) / len(numbers)\n",
        "    variance = sum((x - mean) ** 2 for x in numbers) / len(numbers)\n",
        "    stddev = variance ** 0.5\n",
        "    return variance, stddev\n",
        "\n",
        "def calculate_iqr(numbers):\n",
        "    sorted_numbers = sorted(numbers)\n",
        "    q1 = np.percentile(sorted_numbers, 25)\n",
        "    q3 = np.percentile(sorted_numbers, 75)\n",
        "    return q3 - q1\n",
        "\n",
        "def calculate_coefficient_of_variation(numbers):\n",
        "    mean = sum(numbers) / len(numbers)\n",
        "    variance = sum((x - mean) ** 2 for x in numbers) / len(numbers)\n",
        "    stddev = variance ** 0.5\n",
        "    return (stddev / mean) * 100 if mean != 0 else 0\n",
        "\n",
        "def calculate_mad(numbers):\n",
        "    mean = sum(numbers) / len(numbers)\n",
        "    return sum(abs(x - mean) for x in numbers) / len(numbers)\n",
        "\n",
        "def calculate_quartile_deviation(numbers):\n",
        "    sorted_numbers = sorted(numbers)\n",
        "    q1 = np.percentile(sorted_numbers, 25)\n",
        "    q3 = np.percentile(sorted_numbers, 75)\n",
        "    return (q3 - q1) / 2\n",
        "\n",
        "def calculate_range_coefficient_dispersion(numbers):\n",
        "    return (max(numbers) - min(numbers)) / sum(numbers) * 100 if sum(numbers) != 0 else 0\n"
      ],
      "metadata": {
        "colab": {
          "base_uri": "https://localhost:8080/",
          "height": 956
        },
        "id": "QrMfi6PWbtG0",
        "outputId": "dc09b712-2c96-4ee9-b420-928ac2b02d42"
      },
      "execution_count": 13,
      "outputs": [
        {
          "output_type": "display_data",
          "data": {
            "text/plain": [
              "<Figure size 1500x1000 with 3 Axes>"
            ],
            "image/png": "[encoded data removed]"
          },
          "metadata": {}
        }
      ]
    },
    {
      "cell_type": "code",
      "source": [
        "# Generate the integer list\n",
        "int_list2 = [random.randint(200, 300) for _ in range(500)]\n",
        "\n",
        "# Calculate various statistics\n",
        "data_range = calculate_range(int_list2)\n",
        "variance, stddev = calculate_variance_and_stddev(int_list2)\n",
        "iqr = calculate_iqr(int_list2)\n",
        "coefficient_of_variation = calculate_coefficient_of_variation(int_list2)\n",
        "mad = calculate_mad(int_list2)\n",
        "quartile_deviation = calculate_quartile_deviation(int_list2)\n",
        "range_coefficient_dispersion = calculate_range_coefficient_dispersion(int_list2)\n",
        "\n",
        "# Display results\n",
        "print(f\"Range: {data_range}\")\n",
        "print(f\"Variance: {variance}, Standard Deviation: {stddev}\")\n",
        "print(f\"IQR: {iqr}\")\n",
        "print(f\"Coefficient of Variation: {coefficient_of_variation}%\")\n",
        "print(f\"MAD: {mad}\")\n",
        "print(f\"Quartile Deviation: {quartile_deviation}\")\n",
        "print(f\"Range-Based Coefficient of Dispersion: {range_coefficient_dispersion}%\")\n"
      ],
      "metadata": {
        "colab": {
          "base_uri": "https://localhost:8080/"
        },
        "id": "hQTLoQi7cLtp",
        "outputId": "242f1a2e-fc4f-4fe5-de97-65d6bedb5cf2"
      },
      "execution_count": 14,
      "outputs": [
        {
          "output_type": "stream",
          "name": "stdout",
          "text": [
            "Range: 100\n",
            "Variance: 841.3679040000003, Standard Deviation: 29.00634247884418\n",
            "IQR: 48.5\n",
            "Coefficient of Variation: 11.652128450221815%\n",
            "MAD: 24.957536000000005\n",
            "Quartile Deviation: 24.25\n",
            "Range-Based Coefficient of Dispersion: 0.08034193527653694%\n"
          ]
        }
      ]
    },
    {
      "cell_type": "markdown",
      "source": [
        "3)  Write a Python class representing a discrete random variable with methods to calculate its expected value and variance."
      ],
      "metadata": {
        "id": "wh9Xrk-4cqfk"
      }
    },
    {
      "cell_type": "code",
      "source": [
        "class DiscreteRandomVariable:\n",
        "    def __init__(self, values, probabilities):\n",
        "        if len(values) != len(probabilities):\n",
        "            raise ValueError(\"Values and probabilities must have the same length.\")\n",
        "        if not np.isclose(sum(probabilities), 1):\n",
        "            raise ValueError(\"Probabilities must sum to 1.\")\n",
        "\n",
        "        self.values = values\n",
        "        self.probabilities = probabilities\n",
        "\n",
        "    def expected_value(self):\n",
        "        \"\"\"Calculate the expected value (mean) of the random variable.\"\"\"\n",
        "        return sum(value * prob for value, prob in zip(self.values, self.probabilities))\n",
        "\n",
        "    def variance(self):\n",
        "        \"\"\"Calculate the variance of the random variable.\"\"\"\n",
        "        mean = self.expected_value()\n",
        "        return sum(prob * (value - mean) ** 2 for value, prob in zip(self.values, self.probabilities))\n",
        "\n",
        "# Example usage\n",
        "if __name__ == \"__main__\":\n",
        "    values = [1, 2, 3, 4, 5]\n",
        "    probabilities = [0.1, 0.2, 0.3, 0.2, 0.2]  # Probabilities must sum to 1\n",
        "\n",
        "    rv = DiscreteRandomVariable(values, probabilities)\n",
        "\n",
        "    print(f\"Expected Value: {rv.expected_value()}\")\n",
        "    print(f\"Variance: {rv.variance()}\")\n"
      ],
      "metadata": {
        "colab": {
          "base_uri": "https://localhost:8080/"
        },
        "id": "3jtAAzmMcvig",
        "outputId": "8a9335b4-7f0a-4dfb-f1de-a9f705dd534a"
      },
      "execution_count": 15,
      "outputs": [
        {
          "output_type": "stream",
          "name": "stdout",
          "text": [
            "Expected Value: 3.2\n",
            "Variance: 1.56\n"
          ]
        }
      ]
    },
    {
      "cell_type": "markdown",
      "source": [
        "4) Implement a program to simulate the rolling of a fair six-sided die and calculate the expected value and variance of the outcomes."
      ],
      "metadata": {
        "id": "NgM21_zNc1Ex"
      }
    },
    {
      "cell_type": "code",
      "source": [
        "import numpy as np\n",
        "\n",
        "class Die:\n",
        "    def __init__(self, sides=6):\n",
        "        self.sides = sides\n",
        "\n",
        "    def roll(self):\n",
        "        \"\"\"Simulate rolling the die and return a random outcome.\"\"\"\n",
        "        return np.random.randint(1, self.sides + 1)\n",
        "\n",
        "def simulate_dice_rolls(num_rolls):\n",
        "    \"\"\"Simulate rolling a die multiple times.\"\"\"\n",
        "    die = Die()\n",
        "    outcomes = [die.roll() for _ in range(num_rolls)]\n",
        "    return outcomes\n",
        "\n",
        "def calculate_expected_value(outcomes):\n",
        "    \"\"\"Calculate the expected value of the outcomes.\"\"\"\n",
        "    return np.mean(outcomes)\n",
        "\n",
        "def calculate_variance(outcomes):\n",
        "    \"\"\"Calculate the variance of the outcomes.\"\"\"\n",
        "    return np.var(outcomes)\n",
        "\n",
        "# Example usage\n",
        "if __name__ == \"__main__\":\n",
        "    num_rolls = 10000  # Number of times to roll the die\n",
        "    outcomes = simulate_dice_rolls(num_rolls)\n",
        "\n",
        "    expected_value = calculate_expected_value(outcomes)\n",
        "    variance = calculate_variance(outcomes)\n",
        "\n",
        "    print(f\"Expected Value: {expected_value}\")\n",
        "    print(f\"Variance: {variance}\")\n"
      ],
      "metadata": {
        "colab": {
          "base_uri": "https://localhost:8080/"
        },
        "id": "cEKmj07vc7nE",
        "outputId": "70a5a7a4-420f-4f5e-8a7a-968afb92cd8d"
      },
      "execution_count": 17,
      "outputs": [
        {
          "output_type": "stream",
          "name": "stdout",
          "text": [
            "Expected Value: 3.5155\n",
            "Variance: 2.9433597499999995\n"
          ]
        }
      ]
    },
    {
      "cell_type": "markdown",
      "source": [
        "5) Create a Python function to generate random samples from a given probability distribution (e.g., binomial, Poisson) and calculate their mean and variance."
      ],
      "metadata": {
        "id": "j56GdQlTdiY1"
      }
    },
    {
      "cell_type": "code",
      "source": [
        "import numpy as np\n",
        "\n",
        "def generate_samples(distribution, params, sample_size):\n",
        "    \"\"\"\n",
        "    Generate random samples from a specified probability distribution and calculate their mean and variance.\n",
        "\n",
        "    :param distribution: Type of distribution ('binomial' or 'poisson')\n",
        "    :param params: Parameters for the distribution as a dictionary\n",
        "                   For binomial: {'n': number of trials, 'p': probability of success}\n",
        "                   For poisson: {'lambda': average rate of occurrence}\n",
        "    :param sample_size: Number of random samples to generate\n",
        "    :return: A tuple containing the generated samples, mean, and variance\n",
        "    \"\"\"\n",
        "    if distribution == 'binomial':\n",
        "        n = params['n']\n",
        "        p = params['p']\n",
        "        samples = np.random.binomial(n, p, sample_size)\n",
        "    elif distribution == 'poisson':\n",
        "        lam = params['lambda']\n",
        "        samples = np.random.poisson(lam, sample_size)\n",
        "    else:\n",
        "        raise ValueError(\"Unsupported distribution type. Use 'binomial' or 'poisson'.\")\n",
        "\n",
        "    mean = np.mean(samples)\n",
        "    variance = np.var(samples)\n",
        "\n",
        "    return samples, mean, variance\n",
        "\n",
        "# Example usage\n",
        "if __name__ == \"__main__\":\n",
        "    # Parameters for binomial distribution\n",
        "    binomial_params = {'n': 10, 'p': 0.5}\n",
        "    binomial_samples, binomial_mean, binomial_variance = generate_samples('binomial', binomial_params, 1000)\n",
        "\n",
        "    print(f\"Binomial Samples: {binomial_samples[:10]}\")  # Display the first 10 samples\n",
        "    print(f\"Binomial Mean: {binomial_mean}\")\n",
        "    print(f\"Binomial Variance: {binomial_variance}\")\n",
        "\n",
        "    # Parameters for Poisson distribution\n",
        "    poisson_params = {'lambda': 5}\n",
        "    poisson_samples, poisson_mean, poisson_variance = generate_samples('poisson', poisson_params, 1000)\n",
        "\n",
        "    print(f\"Poisson Samples: {poisson_samples[:10]}\")  # Display the first 10 samples\n",
        "    print(f\"Poisson Mean: {poisson_mean}\")\n",
        "    print(f\"Poisson Variance: {poisson_variance}\")\n"
      ],
      "metadata": {
        "colab": {
          "base_uri": "https://localhost:8080/"
        },
        "id": "Iy34ZBeDdqIF",
        "outputId": "c8acfb1b-7c5e-4c27-9aa3-19a5272a1d8e"
      },
      "execution_count": 18,
      "outputs": [
        {
          "output_type": "stream",
          "name": "stdout",
          "text": [
            "Binomial Samples: [6 4 4 7 7 6 6 6 4 6]\n",
            "Binomial Mean: 4.942\n",
            "Binomial Variance: 2.366636\n",
            "Poisson Samples: [6 2 7 3 5 5 7 5 4 5]\n",
            "Poisson Mean: 5.142\n",
            "Poisson Variance: 5.039835999999999\n"
          ]
        }
      ]
    },
    {
      "cell_type": "markdown",
      "source": [
        "6) Write a Python script to generate random numbers from a Gaussian (normal) distribution and compute the mean, variance, and standard deviation of the samples."
      ],
      "metadata": {
        "id": "dqA5zZTXd0CO"
      }
    },
    {
      "cell_type": "code",
      "source": [
        "import numpy as np\n",
        "\n",
        "def generate_gaussian_samples(mean, std_dev, sample_size):\n",
        "    \"\"\"\n",
        "    Generate random samples from a Gaussian (normal) distribution and compute their statistics.\n",
        "\n",
        "    :param mean: Mean of the Gaussian distribution\n",
        "    :param std_dev: Standard deviation of the Gaussian distribution\n",
        "    :param sample_size: Number of random samples to generate\n",
        "    :return: A tuple containing the generated samples, mean, variance, and standard deviation\n",
        "    \"\"\"\n",
        "    samples = np.random.normal(mean, std_dev, sample_size)\n",
        "\n",
        "    computed_mean = np.mean(samples)\n",
        "    computed_variance = np.var(samples)\n",
        "    computed_std_dev = np.std(samples)\n",
        "\n",
        "    return samples, computed_mean, computed_variance, computed_std_dev\n",
        "\n",
        "# Example usage\n",
        "if __name__ == \"__main__\":\n",
        "    # Parameters for the Gaussian distribution\n",
        "    mean = 0       # Mean\n",
        "    std_dev = 1    # Standard deviation\n",
        "    sample_size = 1000  # Number of samples to generate\n",
        "\n",
        "    samples, computed_mean, computed_variance, computed_std_dev = generate_gaussian_samples(mean, std_dev, sample_size)\n",
        "\n",
        "    print(f\"Samples (first 10): {samples[:10]}\")\n",
        "    print(f\"Computed Mean: {computed_mean}\")\n",
        "    print(f\"Computed Variance: {computed_variance}\")\n",
        "    print(f\"Computed Standard Deviation: {computed_std_dev}\")\n"
      ],
      "metadata": {
        "colab": {
          "base_uri": "https://localhost:8080/"
        },
        "id": "35iDQFKXd4kq",
        "outputId": "6a35e5c8-0a1e-4555-cbb1-303380292702"
      },
      "execution_count": 19,
      "outputs": [
        {
          "output_type": "stream",
          "name": "stdout",
          "text": [
            "Samples (first 10): [-1.68474117  1.34485872  0.51314049  0.62998033 -0.04902481  0.18299372\n",
            " -0.40311938  2.38399918  0.56441094 -0.84575821]\n",
            "Computed Mean: 0.024739350696974697\n",
            "Computed Variance: 1.1165726771676887\n",
            "Computed Standard Deviation: 1.056680025914983\n"
          ]
        }
      ]
    },
    {
      "cell_type": "markdown",
      "source": [
        "7) Use seaborn library to load tips dataset. Find the following from the dataset for the columns total_bill\n",
        "and tip`:\n",
        "\n",
        "  \n",
        "\n",
        "  (i) Write a Python function that calculates their skewness.\n",
        "\n",
        "\n",
        "  (ii) Create a program that determines whether the columns exhibit positive skewness, negative skewness, or is\n",
        "approximately symmetric.\n",
        "\n",
        "\n",
        "  (iii) Write a function that calculates the covariance between two columns.\n",
        "\n",
        "\n",
        "  (iv) Implement a Python program that calculates the Pearson correlation coefficient between two columns.\n",
        "\n",
        "\n",
        "  (v) Write a script to visualize the correlation between two specific columns in a Pandas DataFrame using\n",
        "scatter plots."
      ],
      "metadata": {
        "id": "FC0aJ2TCeANl"
      }
    },
    {
      "cell_type": "code",
      "source": [
        "import seaborn as sns\n",
        "import pandas as pd\n",
        "import numpy as np\n",
        "import matplotlib.pyplot as plt\n",
        "import scipy.stats as stats\n",
        "\n",
        "# Load the tips dataset\n",
        "tips = sns.load_dataset(\"tips\")\n",
        "\n",
        "def calculate_skewness(data):\n",
        "    \"\"\"Calculate the skewness of the given data.\"\"\"\n",
        "    return stats.skew(data)\n",
        "\n",
        "def determine_skewness_type(skewness):\n",
        "    \"\"\"Determine the type of skewness based on the skewness value.\"\"\"\n",
        "    if skewness > 0:\n",
        "        return \"Positive skewness\"\n",
        "    elif skewness < 0:\n",
        "        return \"Negative skewness\"\n",
        "    else:\n",
        "        return \"Approximately symmetric\"\n",
        "\n",
        "def calculate_covariance(column1, column2):\n",
        "    \"\"\"Calculate the covariance between two columns.\"\"\"\n",
        "    return np.cov(column1, column2)[0][1]\n",
        "\n",
        "def calculate_pearson_correlation(column1, column2):\n",
        "    \"\"\"Calculate the Pearson correlation coefficient between two columns.\"\"\"\n",
        "    return np.corrcoef(column1, column2)[0][1]\n",
        "\n",
        "def visualize_correlation(column1, column2):\n",
        "    \"\"\"Visualize the correlation between two columns using a scatter plot.\"\"\"\n",
        "    plt.figure(figsize=(10, 6))\n",
        "    plt.scatter(column1, column2, alpha=0.6)\n",
        "    plt.title(\"Scatter Plot of Total Bill vs Tip\")\n",
        "    plt.xlabel(\"Total Bill\")\n",
        "    plt.ylabel(\"Tip\")\n",
        "    plt.grid()\n",
        "    plt.show()\n",
        "\n",
        "# (i) Calculate skewness for total_bill and tip\n",
        "total_bill_skewness = calculate_skewness(tips['total_bill'])\n",
        "tip_skewness = calculate_skewness(tips['tip'])\n",
        "\n",
        "print(f\"Total Bill Skewness: {total_bill_skewness}\")\n",
        "print(f\"Tip Skewness: {tip_skewness}\")\n",
        "\n",
        "# (ii) Determine skewness type\n",
        "print(\"Total Bill:\", determine_skewness_type(total_bill_skewness))\n",
        "print(\"Tip:\", determine_skewness_type(tip_skewness))\n",
        "\n",
        "# (iii) Calculate covariance between total_bill and tip\n",
        "covariance = calculate_covariance(tips['total_bill'], tips['tip'])\n",
        "print(f\"Covariance between Total Bill and Tip: {covariance}\")\n",
        "\n",
        "# (iv) Calculate Pearson correlation coefficient between total_bill and tip\n",
        "pearson_correlation = calculate_pearson_correlation(tips['total_bill'], tips['tip'])\n",
        "print(f\"Pearson Correlation Coefficient between Total Bill and Tip: {pearson_correlation}\")\n",
        "\n",
        "# (v) Visualize the correlation between total_bill and tip\n",
        "visualize_correlation(tips['total_bill'], tips['tip'])\n"
      ],
      "metadata": {
        "colab": {
          "base_uri": "https://localhost:8080/",
          "height": 668
        },
        "id": "nJpOTv3EeFvj",
        "outputId": "03b4dd2f-a698-4806-a275-5214942b3700"
      },
      "execution_count": 20,
      "outputs": [
        {
          "output_type": "stream",
          "name": "stdout",
          "text": [
            "Total Bill Skewness: 1.1262346334818638\n",
            "Tip Skewness: 1.4564266884221506\n",
            "Total Bill: Positive skewness\n",
            "Tip: Positive skewness\n",
            "Covariance between Total Bill and Tip: 8.323501629224854\n",
            "Pearson Correlation Coefficient between Total Bill and Tip: 0.6757341092113641\n"
          ]
        },
        {
          "output_type": "display_data",
          "data": {
            "text/plain": [
              "<Figure size 1000x600 with 1 Axes>"
            ],
            "image/png": "[encoded data removed]"
          },
          "metadata": {}
        }
      ]
    },
    {
      "cell_type": "markdown",
      "source": [
        "8) Write a Python function to calculate the probability density function (PDF) of a continuous random variable for a given normal distribution.\n"
      ],
      "metadata": {
        "id": "I-zxulRbeZPd"
      }
    },
    {
      "cell_type": "code",
      "source": [
        "import numpy as np\n",
        "\n",
        "def normal_pdf(x, mean, std_dev):\n",
        "    \"\"\"\n",
        "    Calculate the probability density function (PDF) of a normal distribution.\n",
        "\n",
        "    :param x: The point at which to evaluate the PDF\n",
        "    :param mean: The mean (μ) of the normal distribution\n",
        "    :param std_dev: The standard deviation (σ) of the normal distribution\n",
        "    :return: The value of the PDF at x\n",
        "    \"\"\"\n",
        "    coefficient = 1 / (std_dev * np.sqrt(2 * np.pi))\n",
        "    exponent = np.exp(-0.5 * ((x - mean) / std_dev) ** 2)\n",
        "    return coefficient * exponent\n",
        "\n",
        "# Example usage\n",
        "if __name__ == \"__main__\":\n",
        "    mu = 0      # Mean of the distribution\n",
        "    sigma = 1   # Standard deviation of the distribution\n",
        "    x_value = 1 # Point to evaluate\n",
        "\n",
        "    pdf_value = normal_pdf(x_value, mu, sigma)\n",
        "    print(f\"PDF at x={x_value} for N({mu}, {sigma**2}): {pdf_value}\")\n"
      ],
      "metadata": {
        "colab": {
          "base_uri": "https://localhost:8080/"
        },
        "id": "tXPYbh8Oedov",
        "outputId": "427a0fbf-3e31-47ce-a005-51b50f10a557"
      },
      "execution_count": 21,
      "outputs": [
        {
          "output_type": "stream",
          "name": "stdout",
          "text": [
            "PDF at x=1 for N(0, 1): 0.24197072451914337\n"
          ]
        }
      ]
    },
    {
      "cell_type": "markdown",
      "source": [
        "9) Create a program to calculate the cumulative distribution function (CDF) of exponential distribution.\n"
      ],
      "metadata": {
        "id": "2zZND0GAem4Y"
      }
    },
    {
      "cell_type": "code",
      "source": [
        "import numpy as np\n",
        "\n",
        "def exponential_cdf(x, rate):\n",
        "    \"\"\"\n",
        "    Calculate the cumulative distribution function (CDF) of an exponential distribution.\n",
        "\n",
        "    :param x: The point at which to evaluate the CDF\n",
        "    :param rate: The rate parameter (λ) of the exponential distribution\n",
        "    :return: The value of the CDF at x\n",
        "    \"\"\"\n",
        "    if x < 0:\n",
        "        return 0  # CDF is 0 for negative values\n",
        "    return 1 - np.exp(-rate * x)\n",
        "\n",
        "# Example usage\n",
        "if __name__ == \"__main__\":\n",
        "    lambda_param = 1.0  # Rate parameter (λ)\n",
        "    x_values = [0, 1, 2, 3, 4, 5]  # Points to evaluate\n",
        "\n",
        "    print(\"Exponential CDF values:\")\n",
        "    for x in x_values:\n",
        "        cdf_value = exponential_cdf(x, lambda_param)\n",
        "        print(f\"CDF at x={x}: {cdf_value:.4f}\")\n"
      ],
      "metadata": {
        "colab": {
          "base_uri": "https://localhost:8080/"
        },
        "id": "5-8krabzesNy",
        "outputId": "0a1159b5-cda3-4039-fdb6-366f5f986830"
      },
      "execution_count": 22,
      "outputs": [
        {
          "output_type": "stream",
          "name": "stdout",
          "text": [
            "Exponential CDF values:\n",
            "CDF at x=0: 0.0000\n",
            "CDF at x=1: 0.6321\n",
            "CDF at x=2: 0.8647\n",
            "CDF at x=3: 0.9502\n",
            "CDF at x=4: 0.9817\n",
            "CDF at x=5: 0.9933\n"
          ]
        }
      ]
    },
    {
      "cell_type": "markdown",
      "source": [
        "10) Write a Python function to calculate the probability mass function (PMF) of Poisson distribution.\n"
      ],
      "metadata": {
        "id": "uyRGwwpNe0ft"
      }
    },
    {
      "cell_type": "code",
      "source": [
        "import numpy as np\n",
        "from scipy.special import gamma\n",
        "\n",
        "def poisson_pmf(k, lambda_param):\n",
        "    \"\"\"\n",
        "    Calculate the probability mass function (PMF) of a Poisson distribution.\n",
        "\n",
        "    :param k: The number of occurrences (non-negative integer)\n",
        "    :param lambda_param: The average rate of occurrence (λ)\n",
        "    :return: The value of the PMF at k\n",
        "    \"\"\"\n",
        "    if k < 0:\n",
        "        return 0  # PMF is 0 for negative k\n",
        "    return (lambda_param**k * np.exp(-lambda_param)) / np.math.factorial(k)\n",
        "\n",
        "# Example usage\n",
        "if __name__ == \"__main__\":\n",
        "    lambda_value = 3.0  # Average rate of occurrence (λ)\n",
        "    k_values = range(0, 11)  # k from 0 to 10\n",
        "\n",
        "    print(\"Poisson PMF values:\")\n",
        "    for k in k_values:\n",
        "        pmf_value = poisson_pmf(k, lambda_value)\n",
        "        print(f\"PMF at k={k}: {pmf_value:.4f}\")\n"
      ],
      "metadata": {
        "colab": {
          "base_uri": "https://localhost:8080/"
        },
        "id": "FfjsF7VPe5Z1",
        "outputId": "e14c4eab-daac-44c0-d9b0-df99ad9cf5e4"
      },
      "execution_count": 23,
      "outputs": [
        {
          "output_type": "stream",
          "name": "stdout",
          "text": [
            "Poisson PMF values:\n",
            "PMF at k=0: 0.0498\n",
            "PMF at k=1: 0.1494\n",
            "PMF at k=2: 0.2240\n",
            "PMF at k=3: 0.2240\n",
            "PMF at k=4: 0.1680\n",
            "PMF at k=5: 0.1008\n",
            "PMF at k=6: 0.0504\n",
            "PMF at k=7: 0.0216\n",
            "PMF at k=8: 0.0081\n",
            "PMF at k=9: 0.0027\n",
            "PMF at k=10: 0.0008\n"
          ]
        },
        {
          "output_type": "stream",
          "name": "stderr",
          "text": [
            "<ipython-input-23-8f91118e0c19>:14: DeprecationWarning: `np.math` is a deprecated alias for the standard library `math` module (Deprecated Numpy 1.25). Replace usages of `np.math` with `math`\n",
            "  return (lambda_param**k * np.exp(-lambda_param)) / np.math.factorial(k)\n"
          ]
        }
      ]
    },
    {
      "cell_type": "markdown",
      "source": [
        "11) A company wants to test if a new website layout leads to a higher conversion rate (percentage of visitors\n",
        "who make a purchase). They collect data from the old and new layouts to compare.\n",
        "\n",
        "\n",
        "To generate the data use the following command:\n",
        "\n",
        "```python\n",
        "\n",
        "import numpy as np\n",
        "\n",
        "# 50 purchases out of 1000 visitors\n",
        "\n",
        "old_layout = np.array([1] * 50 + [0] * 950)\n",
        "\n",
        "# 70 purchases out of 1000 visitors  \n",
        "\n",
        "new_layout = np.array([1] * 70 + [0] * 930)\n",
        "\n",
        "  ```\n",
        "\n",
        "Apply z-test to find which layout is successful."
      ],
      "metadata": {
        "id": "yN-DS-bdfBUl"
      }
    },
    {
      "cell_type": "code",
      "source": [
        "import numpy as np\n",
        "import statsmodels.api as sm\n",
        "from scipy import stats\n",
        "\n",
        "# Generate the data\n",
        "old_layout = np.array([1] * 50 + [0] * 950)\n",
        "new_layout = np.array([1] * 70 + [0] * 930)\n",
        "\n",
        "# Calculate the number of successes (purchases) and sample sizes\n",
        "n_old = len(old_layout)\n",
        "n_new = len(new_layout)\n",
        "x_old = np.sum(old_layout)\n",
        "x_new = np.sum(new_layout)\n",
        "\n",
        "# Calculate proportions\n",
        "p_old = x_old / n_old\n",
        "p_new = x_new / n_new\n",
        "\n",
        "# Combined proportion\n",
        "p_combined = (x_old + x_new) / (n_old + n_new)\n",
        "\n",
        "# Z-score calculation\n",
        "z_score = (p_new - p_old) / np.sqrt(p_combined * (1 - p_combined) * (1/n_old + 1/n_new))\n",
        "\n",
        "# Calculate the p-value (one-tailed test)\n",
        "p_value = 1 - stats.norm.cdf(z_score)\n",
        "\n",
        "# Print results\n",
        "print(f\"Old Layout Conversion Rate: {p_old:.4f}\")\n",
        "print(f\"New Layout Conversion Rate: {p_new:.4f}\")\n",
        "print(f\"Z-score: {z_score:.4f}\")\n",
        "print(f\"P-value: {p_value:.4f}\")\n",
        "\n",
        "# Decision\n",
        "alpha = 0.05\n",
        "if p_value < alpha:\n",
        "    print(\"Reject the null hypothesis: The new layout has a higher conversion rate.\")\n",
        "else:\n",
        "    print(\"Fail to reject the null hypothesis: No significant difference in conversion rates.\")\n"
      ],
      "metadata": {
        "colab": {
          "base_uri": "https://localhost:8080/"
        },
        "id": "f5mrtfI1fMQ3",
        "outputId": "239ffcab-a61c-4e7e-b5c3-74d682176dc8"
      },
      "execution_count": 24,
      "outputs": [
        {
          "output_type": "stream",
          "name": "stdout",
          "text": [
            "Old Layout Conversion Rate: 0.0500\n",
            "New Layout Conversion Rate: 0.0700\n",
            "Z-score: 1.8831\n",
            "P-value: 0.0298\n",
            "Reject the null hypothesis: The new layout has a higher conversion rate.\n"
          ]
        }
      ]
    },
    {
      "cell_type": "markdown",
      "source": [
        "12) A tutoring service claims that its program improves students' exam scores. A sample of students who\n",
        "participated in the program was taken, and their scores before and after the program were recorded.\n",
        "\n",
        "\n",
        "Use the below code to generate samples of respective arrays of marks:\n",
        "\n",
        "```python\n",
        "\n",
        "before_program = np.array([75, 80, 85, 70, 90, 78, 92, 88, 82, 87])\n",
        "\n",
        "after_program = np.array([80, 85, 90, 80, 92, 80, 95, 90, 85, 88])\n",
        "\n",
        "```\n",
        "\n",
        "Use z-test to find if the claims made by tutor are true or false."
      ],
      "metadata": {
        "id": "pGoUPDvVfimT"
      }
    },
    {
      "cell_type": "code",
      "source": [
        "import numpy as np\n",
        "from scipy import stats\n",
        "\n",
        "# Generate the scores\n",
        "before_program = np.array([75, 80, 85, 70, 90, 78, 92, 88, 82, 87])\n",
        "after_program = np.array([80, 85, 90, 80, 92, 80, 95, 90, 85, 88])\n",
        "\n",
        "# Calculate the differences\n",
        "differences = after_program - before_program\n",
        "\n",
        "# Perform a one-sample t-test on the differences\n",
        "t_statistic, p_value = stats.ttest_1samp(differences, 0)\n",
        "\n",
        "# Print results\n",
        "print(f\"Differences: {differences}\")\n",
        "print(f\"T-statistic: {t_statistic:.4f}\")\n",
        "print(f\"P-value: {p_value:.4f}\")\n",
        "\n",
        "# Decision\n",
        "alpha = 0.05\n",
        "if p_value < alpha:\n",
        "    print(\"Reject the null hypothesis: The tutoring program improves students' exam scores.\")\n",
        "else:\n",
        "    print(\"Fail to reject the null hypothesis: No significant improvement in students' exam scores.\")\n"
      ],
      "metadata": {
        "colab": {
          "base_uri": "https://localhost:8080/"
        },
        "id": "G-zYKonufljx",
        "outputId": "fd4ca449-f40e-4e3c-d4c0-bf8bcd2b7d85"
      },
      "execution_count": 25,
      "outputs": [
        {
          "output_type": "stream",
          "name": "stdout",
          "text": [
            "Differences: [ 5  5  5 10  2  2  3  2  3  1]\n",
            "T-statistic: 4.5932\n",
            "P-value: 0.0013\n",
            "Reject the null hypothesis: The tutoring program improves students' exam scores.\n"
          ]
        }
      ]
    },
    {
      "cell_type": "markdown",
      "source": [
        "13) A pharmaceutical company wants to determine if a new drug is effective in reducing blood pressure. They\n",
        "conduct a study and record blood pressure measurements before and after administering the drug.\n",
        "\n",
        "\n",
        "Use the below code to generate samples of respective arrays of blood pressure:\n",
        "\n",
        "\n",
        "```python\n",
        "\n",
        "before_drug = np.array([145, 150, 140, 135, 155, 160, 152, 148, 130, 138])\n",
        "\n",
        "after_drug = np.array([130, 140, 132, 128, 145, 148, 138, 136, 125, 130])\n",
        "\n",
        "  ```\n",
        "\n",
        "\n",
        "Implement z-test to find if the drug really works or not."
      ],
      "metadata": {
        "id": "GZPZvFzJfxyz"
      }
    },
    {
      "cell_type": "code",
      "source": [
        "import numpy as np\n",
        "from scipy import stats\n",
        "\n",
        "# Generate the blood pressure measurements\n",
        "before_drug = np.array([145, 150, 140, 135, 155, 160, 152, 148, 130, 138])\n",
        "after_drug = np.array([130, 140, 132, 128, 145, 148, 138, 136, 125, 130])\n",
        "\n",
        "# Calculate the differences\n",
        "differences = after_drug - before_drug\n",
        "\n",
        "# Perform a one-sample t-test on the differences\n",
        "t_statistic, p_value = stats.ttest_1samp(differences, 0)\n",
        "\n",
        "# Print results\n",
        "print(f\"Differences: {differences}\")\n",
        "print(f\"T-statistic: {t_statistic:.4f}\")\n",
        "print(f\"P-value: {p_value:.4f}\")\n",
        "\n",
        "# Decision\n",
        "alpha = 0.05\n",
        "if p_value < alpha:\n",
        "    print(\"Reject the null hypothesis: The drug is effective in reducing blood pressure.\")\n",
        "else:\n",
        "    print(\"Fail to reject the null hypothesis: No significant effect of the drug on blood pressure.\")\n"
      ],
      "metadata": {
        "colab": {
          "base_uri": "https://localhost:8080/"
        },
        "id": "Y9oiMMjVf3ZQ",
        "outputId": "3393fa0f-a99f-4ae1-81e0-01f5892a8479"
      },
      "execution_count": 26,
      "outputs": [
        {
          "output_type": "stream",
          "name": "stdout",
          "text": [
            "Differences: [-15 -10  -8  -7 -10 -12 -14 -12  -5  -8]\n",
            "T-statistic: -10.0499\n",
            "P-value: 0.0000\n",
            "Reject the null hypothesis: The drug is effective in reducing blood pressure.\n"
          ]
        }
      ]
    },
    {
      "cell_type": "markdown",
      "source": [
        "14) A customer service department claims that their average response time is less than 5 minutes. A sample\n",
        "of recent customer interactions was taken, and the response times were recorded.\n",
        "\n",
        "\n",
        "Implement the below code to generate the array of response time:\n",
        "\n",
        "```python\n",
        "\n",
        "response_times = np.array([4.3, 3.8, 5.1, 4.9, 4.7, 4.2, 5.2, 4.5, 4.6, 4.4])\n",
        "\n",
        "```\n",
        "\n",
        "Implement z-test to find the claims made by customer service department are tru or false"
      ],
      "metadata": {
        "id": "I08jtTNggDGj"
      }
    },
    {
      "cell_type": "code",
      "source": [
        "import numpy as np\n",
        "from scipy import stats\n",
        "\n",
        "# Generate the response times\n",
        "response_times = np.array([4.3, 3.8, 5.1, 4.9, 4.7, 4.2, 5.2, 4.5, 4.6, 4.4])\n",
        "\n",
        "# Define the hypothesized mean\n",
        "hypothesized_mean = 5\n",
        "\n",
        "# Calculate sample mean and standard deviation\n",
        "sample_mean = np.mean(response_times)\n",
        "sample_std = np.std(response_times, ddof=1)  # Sample standard deviation\n",
        "n = len(response_times)\n",
        "\n",
        "# Calculate the z-score\n",
        "z_score = (sample_mean - hypothesized_mean) / (sample_std / np.sqrt(n))\n",
        "\n",
        "# Calculate the p-value (one-tailed test)\n",
        "p_value = stats.norm.cdf(z_score)\n",
        "\n",
        "# Print results\n",
        "print(f\"Sample Mean: {sample_mean:.4f}\")\n",
        "print(f\"Sample Standard Deviation: {sample_std:.4f}\")\n",
        "print(f\"Z-score: {z_score:.4f}\")\n",
        "print(f\"P-value: {p_value:.4f}\")\n",
        "\n",
        "# Decision\n",
        "alpha = 0.05\n",
        "if p_value < alpha:\n",
        "    print(\"Reject the null hypothesis: The average response time is less than 5 minutes.\")\n",
        "else:\n",
        "    print(\"Fail to reject the null hypothesis: No significant evidence that the average response time is less than 5 minutes.\")\n"
      ],
      "metadata": {
        "colab": {
          "base_uri": "https://localhost:8080/"
        },
        "id": "oG9c4Sd3gJKb",
        "outputId": "20557470-c2de-460e-e048-47f07072bb29"
      },
      "execution_count": 27,
      "outputs": [
        {
          "output_type": "stream",
          "name": "stdout",
          "text": [
            "Sample Mean: 4.5700\n",
            "Sample Standard Deviation: 0.4270\n",
            "Z-score: -3.1845\n",
            "P-value: 0.0007\n",
            "Reject the null hypothesis: The average response time is less than 5 minutes.\n"
          ]
        }
      ]
    },
    {
      "cell_type": "markdown",
      "source": [
        "15) A company is testing two different website layouts to see which one leads to higher click-through rates.\n",
        "Write a Python function to perform an A/B test analysis, including calculating the t-statistic, degrees of\n",
        "freedom, and p-value.\n",
        "\n",
        "\n",
        "Use the following data:\n",
        "\n",
        "```python\n",
        "\n",
        "layout_a_clicks = [28, 32, 33, 29, 31, 34, 30, 35, 36, 37]\n",
        "\n",
        "layout_b_clicks = [40, 41, 38, 42, 39, 44, 43, 41, 45, 47"
      ],
      "metadata": {
        "id": "B9By_dW0gUfp"
      }
    },
    {
      "cell_type": "code",
      "source": [
        "import numpy as np\n",
        "from scipy import stats\n",
        "\n",
        "def ab_test_analysis(layout_a_clicks, layout_b_clicks):\n",
        "    # Convert the lists to numpy arrays for calculations\n",
        "    a = np.array(layout_a_clicks)\n",
        "    b = np.array(layout_b_clicks)\n",
        "\n",
        "    # Calculate means and standard deviations\n",
        "    mean_a = np.mean(a)\n",
        "    mean_b = np.mean(b)\n",
        "    std_a = np.std(a, ddof=1)  # Sample standard deviation\n",
        "    std_b = np.std(b, ddof=1)  # Sample standard deviation\n",
        "\n",
        "    # Sample sizes\n",
        "    n_a = len(a)\n",
        "    n_b = len(b)\n",
        "\n",
        "    # Calculate the t-statistic\n",
        "    pooled_std = np.sqrt((std_a**2 / n_a) + (std_b**2 / n_b))\n",
        "    t_statistic = (mean_a - mean_b) / pooled_std\n",
        "\n",
        "    # Calculate degrees of freedom\n",
        "    degrees_of_freedom = n_a + n_b - 2\n",
        "\n",
        "    # Calculate the p-value (two-tailed test)\n",
        "    p_value = stats.t.sf(np.abs(t_statistic), degrees_of_freedom) * 2\n",
        "\n",
        "    # Print results\n",
        "    print(f\"Layout A Mean: {mean_a:.4f}, Standard Deviation: {std_a:.4f}\")\n",
        "    print(f\"Layout B Mean: {mean_b:.4f}, Standard Deviation: {std_b:.4f}\")\n",
        "    print(f\"T-statistic: {t_statistic:.4f}\")\n",
        "    print(f\"Degrees of Freedom: {degrees_of_freedom}\")\n",
        "    print(f\"P-value: {p_value:.4f}\")\n",
        "\n",
        "    return t_statistic, degrees_of_freedom, p_value\n",
        "\n",
        "# Sample data\n",
        "layout_a_clicks = [28, 32, 33, 29, 31, 34, 30, 35, 36, 37]\n",
        "layout_b_clicks = [40, 41, 38, 42, 39, 44, 43, 41, 45, 47]\n",
        "\n",
        "# Perform A/B test analysis\n",
        "ab_test_analysis(layout_a_clicks, layout_b_clicks)\n"
      ],
      "metadata": {
        "colab": {
          "base_uri": "https://localhost:8080/"
        },
        "id": "SCRg65lMgZkL",
        "outputId": "775fe1a7-a68b-47c4-b870-5300d9cdbd5b"
      },
      "execution_count": 28,
      "outputs": [
        {
          "output_type": "stream",
          "name": "stdout",
          "text": [
            "Layout A Mean: 32.5000, Standard Deviation: 3.0277\n",
            "Layout B Mean: 42.0000, Standard Deviation: 2.7889\n",
            "T-statistic: -7.2981\n",
            "Degrees of Freedom: 18\n",
            "P-value: 0.0000\n"
          ]
        },
        {
          "output_type": "execute_result",
          "data": {
            "text/plain": [
              "(-7.298102156175071, 18, 8.833437608301987e-07)"
            ]
          },
          "metadata": {},
          "execution_count": 28
        }
      ]
    },
    {
      "cell_type": "markdown",
      "source": [
        "16) A pharmaceutical company wants to determine if a new drug is more effective than an existing drug in\n",
        "reducing cholesterol levels. Create a program to analyze the clinical trial data and calculate the tstatistic and p-value for the treatment effect.\n",
        "\n",
        "\n",
        "Use the following data of cholestrol level:\n",
        "\n",
        "```python\n",
        "\n",
        "existing_drug_levels = [180, 182, 175, 185, 178, 176, 172, 184, 179, 183]\n",
        "\n",
        "new_drug_levels = [170, 172, 165, 168, 175, 173, 170, 178, 172, 176]"
      ],
      "metadata": {
        "id": "nYTIauQBgm0x"
      }
    },
    {
      "cell_type": "code",
      "source": [
        "import numpy as np\n",
        "from scipy import stats\n",
        "\n",
        "def analyze_cholesterol(existing_drug_levels, new_drug_levels):\n",
        "    # Convert the lists to numpy arrays for calculations\n",
        "    existing = np.array(existing_drug_levels)\n",
        "    new = np.array(new_drug_levels)\n",
        "\n",
        "    # Calculate means and standard deviations\n",
        "    mean_existing = np.mean(existing)\n",
        "    mean_new = np.mean(new)\n",
        "    std_existing = np.std(existing, ddof=1)  # Sample standard deviation\n",
        "    std_new = np.std(new, ddof=1)  # Sample standard deviation\n",
        "\n",
        "    # Sample sizes\n",
        "    n_existing = len(existing)\n",
        "    n_new = len(new)\n",
        "\n",
        "    # Calculate the t-statistic\n",
        "    pooled_std = np.sqrt((std_existing**2 / n_existing) + (std_new**2 / n_new))\n",
        "    t_statistic = (mean_new - mean_existing) / pooled_std\n",
        "\n",
        "    # Calculate degrees of freedom\n",
        "    degrees_of_freedom = n_existing + n_new - 2\n",
        "\n",
        "    # Calculate the p-value (two-tailed test)\n",
        "    p_value = stats.t.sf(np.abs(t_statistic), degrees_of_freedom) * 2\n",
        "\n",
        "    # Print results\n",
        "    print(f\"Existing Drug Mean: {mean_existing:.4f}, Standard Deviation: {std_existing:.4f}\")\n",
        "    print(f\"New Drug Mean: {mean_new:.4f}, Standard Deviation: {std_new:.4f}\")\n",
        "    print(f\"T-statistic: {t_statistic:.4f}\")\n",
        "    print(f\"Degrees of Freedom: {degrees_of_freedom}\")\n",
        "    print(f\"P-value: {p_value:.4f}\")\n",
        "\n",
        "    return t_statistic, degrees_of_freedom, p_value\n",
        "\n",
        "# Sample data\n",
        "existing_drug_levels = [180, 182, 175, 185, 178, 176, 172, 184, 179, 183]\n",
        "new_drug_levels = [170, 172, 165, 168, 175, 173, 170, 178, 172, 176]\n",
        "\n",
        "# Analyze cholesterol levels\n",
        "analyze_cholesterol(existing_drug_levels, new_drug_levels)\n"
      ],
      "metadata": {
        "colab": {
          "base_uri": "https://localhost:8080/"
        },
        "id": "8w2PgEtigurc",
        "outputId": "12bff1de-f0c2-4234-aa94-28432017639b"
      },
      "execution_count": 29,
      "outputs": [
        {
          "output_type": "stream",
          "name": "stdout",
          "text": [
            "Existing Drug Mean: 179.4000, Standard Deviation: 4.2216\n",
            "New Drug Mean: 171.9000, Standard Deviation: 3.8715\n",
            "T-statistic: -4.1405\n",
            "Degrees of Freedom: 18\n",
            "P-value: 0.0006\n"
          ]
        },
        {
          "output_type": "execute_result",
          "data": {
            "text/plain": [
              "(-4.140480986208661, 18, 0.0006143398442372478)"
            ]
          },
          "metadata": {},
          "execution_count": 29
        }
      ]
    },
    {
      "cell_type": "markdown",
      "source": [
        "17) A school district introduces an educational intervention program to improve math scores. Write a Python\n",
        "function to analyze pre- and post-intervention test scores, calculating the t-statistic and p-value to\n",
        "determine if the intervention had a significant impact.\n",
        "\n",
        "\n",
        "Use the following data of test score:\n",
        "\n",
        "\n",
        "  ```python\n",
        "\n",
        "  pre_intervention_scores = [80, 85, 90, 75, 88, 82, 92, 78, 85, 87]\n",
        "\n",
        "  post_intervention_scores = [90, 92, 88, 92, 95, 91, 96, 93, 89, 93]"
      ],
      "metadata": {
        "id": "JSe6yAQyg4Ru"
      }
    },
    {
      "cell_type": "code",
      "source": [
        "import numpy as np\n",
        "from scipy import stats\n",
        "\n",
        "def analyze_intervention(pre_scores, post_scores):\n",
        "    # Convert the lists to numpy arrays for calculations\n",
        "    pre = np.array(pre_scores)\n",
        "    post = np.array(post_scores)\n",
        "\n",
        "    # Calculate the differences\n",
        "    differences = post - pre\n",
        "\n",
        "    # Calculate mean and standard deviation of the differences\n",
        "    mean_diff = np.mean(differences)\n",
        "    std_diff = np.std(differences, ddof=1)  # Sample standard deviation\n",
        "    n = len(differences)  # Sample size\n",
        "\n",
        "    # Calculate the t-statistic\n",
        "    t_statistic = mean_diff / (std_diff / np.sqrt(n))\n",
        "\n",
        "    # Calculate degrees of freedom\n",
        "    degrees_of_freedom = n - 1\n",
        "\n",
        "    # Calculate the p-value (two-tailed test)\n",
        "    p_value = stats.t.sf(np.abs(t_statistic), degrees_of_freedom) * 2\n",
        "\n",
        "    # Print results\n",
        "    print(f\"Mean Difference: {mean_diff:.4f}, Standard Deviation of Differences: {std_diff:.4f}\")\n",
        "    print(f\"T-statistic: {t_statistic:.4f}\")\n",
        "    print(f\"Degrees of Freedom: {degrees_of_freedom}\")\n",
        "    print(f\"P-value: {p_value:.4f}\")\n",
        "\n",
        "    return t_statistic, degrees_of_freedom, p_value\n",
        "\n",
        "# Sample data\n",
        "pre_intervention_scores = [80, 85, 90, 75, 88, 82, 92, 78, 85, 87]\n",
        "post_intervention_scores = [90, 92, 88, 92, 95, 91, 96, 93, 89, 93]\n",
        "\n",
        "# Analyze intervention impact\n",
        "analyze_intervention(pre_intervention_scores, post_intervention_scores)\n"
      ],
      "metadata": {
        "colab": {
          "base_uri": "https://localhost:8080/"
        },
        "id": "-T7Q4BqChBC1",
        "outputId": "570d11d1-bb07-4bf0-914a-025d6f11d861"
      },
      "execution_count": 30,
      "outputs": [
        {
          "output_type": "stream",
          "name": "stdout",
          "text": [
            "Mean Difference: 7.7000, Standard Deviation of Differences: 5.4985\n",
            "T-statistic: 4.4284\n",
            "Degrees of Freedom: 9\n",
            "P-value: 0.0017\n"
          ]
        },
        {
          "output_type": "execute_result",
          "data": {
            "text/plain": [
              "(4.428408839657611, 9, 0.0016509548165795493)"
            ]
          },
          "metadata": {},
          "execution_count": 30
        }
      ]
    },
    {
      "cell_type": "markdown",
      "source": [
        "18) An HR department wants to investigate if there's a gender-based salary gap within the company. Develop\n",
        "a program to analyze salary data, calculate the t-statistic, and determine if there's a statistically\n",
        "significant difference between the average salaries of male and female employees.\n",
        "\n",
        "\n",
        "Use the below code to generate synthetic data:\n",
        "\n",
        "\n",
        "```python\n",
        "\n",
        "# Generate synthetic salary data for male and female employees\n",
        "\n",
        "np.random.seed(0)  # For reproducibility\n",
        "\n",
        "male_salaries = np.random.normal(loc=50000, scale=10000, size=20)\n",
        "\n",
        "female_salaries = np.random.normal(loc=55000, scale=9000, size=20)"
      ],
      "metadata": {
        "id": "nPGGOlU0hM3R"
      }
    },
    {
      "cell_type": "code",
      "source": [
        "import numpy as np\n",
        "from scipy import stats\n",
        "\n",
        "# Generate synthetic salary data for male and female employees\n",
        "np.random.seed(0)  # For reproducibility\n",
        "male_salaries = np.random.normal(loc=50000, scale=10000, size=20)\n",
        "female_salaries = np.random.normal(loc=55000, scale=9000, size=20)\n",
        "\n",
        "def analyze_salary_gap(male_salaries, female_salaries):\n",
        "    # Convert the lists to numpy arrays for calculations\n",
        "    male = np.array(male_salaries)\n",
        "    female = np.array(female_salaries)\n",
        "\n",
        "    # Calculate means and standard deviations\n",
        "    mean_male = np.mean(male)\n",
        "    mean_female = np.mean(female)\n",
        "    std_male = np.std(male, ddof=1)  # Sample standard deviation\n",
        "    std_female = np.std(female, ddof=1)  # Sample standard deviation\n",
        "\n",
        "    # Sample sizes\n",
        "    n_male = len(male)\n",
        "    n_female = len(female)\n",
        "\n",
        "    # Calculate the t-statistic\n",
        "    pooled_std = np.sqrt((std_male**2 / n_male) + (std_female**2 / n_female))\n",
        "    t_statistic = (mean_female - mean_male) / pooled_std\n",
        "\n",
        "    # Calculate degrees of freedom\n",
        "    degrees_of_freedom = n_male + n_female - 2\n",
        "\n",
        "    # Calculate the p-value (two-tailed test)\n",
        "    p_value = stats.t.sf(np.abs(t_statistic), degrees_of_freedom) * 2\n",
        "\n",
        "    # Print results\n",
        "    print(f\"Male Mean Salary: {mean_male:.2f}, Standard Deviation: {std_male:.2f}\")\n",
        "    print(f\"Female Mean Salary: {mean_female:.2f}, Standard Deviation: {std_female:.2f}\")\n",
        "    print(f\"T-statistic: {t_statistic:.4f}\")\n",
        "    print(f\"Degrees of Freedom: {degrees_of_freedom}\")\n",
        "    print(f\"P-value: {p_value:.4f}\")\n",
        "\n",
        "    return t_statistic, degrees_of_freedom, p_value\n",
        "\n",
        "# Analyze salary gap\n",
        "analyze_salary_gap(male_salaries, female_salaries)\n"
      ],
      "metadata": {
        "colab": {
          "base_uri": "https://localhost:8080/"
        },
        "id": "OAhld_Cxhd6v",
        "outputId": "007ebf2a-88ad-4b65-b1d0-dd61bc7b505c"
      },
      "execution_count": 31,
      "outputs": [
        {
          "output_type": "stream",
          "name": "stdout",
          "text": [
            "Male Mean Salary: 55693.35, Standard Deviation: 8722.69\n",
            "Female Mean Salary: 55501.75, Standard Deviation: 10968.10\n",
            "T-statistic: -0.0611\n",
            "Degrees of Freedom: 38\n",
            "P-value: 0.9516\n"
          ]
        },
        {
          "output_type": "execute_result",
          "data": {
            "text/plain": [
              "(-0.061142089696313844, 38, 0.9515665020676465)"
            ]
          },
          "metadata": {},
          "execution_count": 31
        }
      ]
    },
    {
      "cell_type": "markdown",
      "source": [
        "19) A manufacturer produces two different versions of a product and wants to compare their quality scores.\n",
        "Create a Python function to analyze quality assessment data, calculate the t-statistic, and decide\n",
        "whether there's a significant difference in quality between the two versions.\n",
        "\n",
        "\n",
        "Use the following data:\n",
        "\n",
        "\n",
        "```python\n",
        "\n",
        "version1_scores = [85, 88, 82, 89, 87, 84, 90, 88, 85, 86, 91, 83, 87, 84, 89, 86, 84, 88, 85, 86, 89, 90, 87, 88, 85]\n",
        "\n",
        "version2_scores = [80, 78, 83, 81, 79, 82, 76, 80, 78, 81, 77, 82, 80, 79, 82, 79, 80, 81, 79, 82, 79, 78, 80, 81, 82]"
      ],
      "metadata": {
        "id": "buJl_qbrhgFJ"
      }
    },
    {
      "cell_type": "code",
      "source": [
        "import numpy as np\n",
        "from scipy import stats\n",
        "\n",
        "def analyze_quality_scores(version1_scores, version2_scores):\n",
        "    # Convert the lists to numpy arrays for calculations\n",
        "    version1 = np.array(version1_scores)\n",
        "    version2 = np.array(version2_scores)\n",
        "\n",
        "    # Calculate means and standard deviations\n",
        "    mean_version1 = np.mean(version1)\n",
        "    mean_version2 = np.mean(version2)\n",
        "    std_version1 = np.std(version1, ddof=1)  # Sample standard deviation\n",
        "    std_version2 = np.std(version2, ddof=1)  # Sample standard deviation\n",
        "\n",
        "    # Sample sizes\n",
        "    n_version1 = len(version1)\n",
        "    n_version2 = len(version2)\n",
        "\n",
        "    # Calculate the t-statistic\n",
        "    pooled_std = np.sqrt((std_version1**2 / n_version1) + (std_version2**2 / n_version2))\n",
        "    t_statistic = (mean_version1 - mean_version2) / pooled_std\n",
        "\n",
        "    # Calculate degrees of freedom\n",
        "    degrees_of_freedom = n_version1 + n_version2 - 2\n",
        "\n",
        "    # Calculate the p-value (two-tailed test)\n",
        "    p_value = stats.t.sf(np.abs(t_statistic), degrees_of_freedom) * 2\n",
        "\n",
        "    # Print results\n",
        "    print(f\"Version 1 Mean Score: {mean_version1:.2f}, Standard Deviation: {std_version1:.2f}\")\n",
        "    print(f\"Version 2 Mean Score: {mean_version2:.2f}, Standard Deviation: {std_version2:.2f}\")\n",
        "    print(f\"T-statistic: {t_statistic:.4f}\")\n",
        "    print(f\"Degrees of Freedom: {degrees_of_freedom}\")\n",
        "    print(f\"P-value: {p_value:.4f}\")\n",
        "\n",
        "    return t_statistic, degrees_of_freedom, p_value\n",
        "\n",
        "# Sample data\n",
        "version1_scores = [85, 88, 82, 89, 87, 84, 90, 88, 85, 86, 91, 83, 87, 84, 89, 86, 84, 88, 85, 86, 89, 90, 87, 88, 85]\n",
        "version2_scores = [80, 78, 83, 81, 79, 82, 76, 80, 78, 81, 77, 82, 80, 79, 82, 79, 80, 81, 79, 82, 79, 78, 80, 81, 82]\n",
        "\n",
        "# Analyze quality scores\n",
        "analyze_quality_scores(version1_scores, version2_scores)\n"
      ],
      "metadata": {
        "colab": {
          "base_uri": "https://localhost:8080/"
        },
        "id": "s8m0_MHihldf",
        "outputId": "c651815d-1b14-4a30-d1a0-692fe9e03a95"
      },
      "execution_count": 32,
      "outputs": [
        {
          "output_type": "stream",
          "name": "stdout",
          "text": [
            "Version 1 Mean Score: 86.64, Standard Deviation: 2.36\n",
            "Version 2 Mean Score: 79.96, Standard Deviation: 1.77\n",
            "T-statistic: 11.3258\n",
            "Degrees of Freedom: 48\n",
            "P-value: 0.0000\n"
          ]
        },
        {
          "output_type": "execute_result",
          "data": {
            "text/plain": [
              "(11.325830417646698, 48, 3.6824250702873965e-15)"
            ]
          },
          "metadata": {},
          "execution_count": 32
        }
      ]
    },
    {
      "cell_type": "markdown",
      "source": [
        " 20) A restaurant chain collects customer satisfaction scores for two different branches. Write a program to\n",
        "analyze the scores, calculate the t-statistic, and determine if there's a statistically significant difference in\n",
        "customer satisfaction between the branches.\n",
        "\n",
        "\n",
        "Use the below data of scores:\n",
        "\n",
        "  ```python\n",
        "\n",
        "branch_a_scores = [4, 5, 3, 4, 5, 4, 5, 3, 4, 4, 5, 4, 4, 3, 4, 5, 5, 4, 3, 4, 5, 4, 3, 5, 4, 4, 5, 3, 4, 5, 4]\n",
        "\n",
        "branch_b_scores = [3, 4, 2, 3, 4, 3, 4, 2, 3, 3, 4, 3, 3, 2, 3, 4, 4, 3, 2, 3, 4, 3, 2, 4, 3, 3, 4, 2, 3, 4, 3]"
      ],
      "metadata": {
        "id": "52weoKZshv0r"
      }
    },
    {
      "cell_type": "code",
      "source": [
        "import numpy as np\n",
        "from scipy import stats\n",
        "\n",
        "def analyze_satisfaction_scores(branch_a_scores, branch_b_scores):\n",
        "    # Convert the lists to numpy arrays for calculations\n",
        "    branch_a = np.array(branch_a_scores)\n",
        "    branch_b = np.array(branch_b_scores)\n",
        "\n",
        "    # Calculate means and standard deviations\n",
        "    mean_branch_a = np.mean(branch_a)\n",
        "    mean_branch_b = np.mean(branch_b)\n",
        "    std_branch_a = np.std(branch_a, ddof=1)  # Sample standard deviation\n",
        "    std_branch_b = np.std(branch_b, ddof=1)  # Sample standard deviation\n",
        "\n",
        "    # Sample sizes\n",
        "    n_branch_a = len(branch_a)\n",
        "    n_branch_b = len(branch_b)\n",
        "\n",
        "    # Calculate the t-statistic\n",
        "    pooled_std = np.sqrt((std_branch_a**2 / n_branch_a) + (std_branch_b**2 / n_branch_b))\n",
        "    t_statistic = (mean_branch_a - mean_branch_b) / pooled_std\n",
        "\n",
        "    # Calculate degrees of freedom\n",
        "    degrees_of_freedom = n_branch_a + n_branch_b - 2\n",
        "\n",
        "    # Calculate the p-value (two-tailed test)\n",
        "    p_value = stats.t.sf(np.abs(t_statistic), degrees_of_freedom) * 2\n",
        "\n",
        "    # Print results\n",
        "    print(f\"Branch A Mean Score: {mean_branch_a:.2f}, Standard Deviation: {std_branch_a:.2f}\")\n",
        "    print(f\"Branch B Mean Score: {mean_branch_b:.2f}, Standard Deviation: {std_branch_b:.2f}\")\n",
        "    print(f\"T-statistic: {t_statistic:.4f}\")\n",
        "    print(f\"Degrees of Freedom: {degrees_of_freedom}\")\n",
        "    print(f\"P-value: {p_value:.4f}\")\n",
        "\n",
        "    return t_statistic, degrees_of_freedom, p_value\n",
        "\n",
        "# Sample data\n",
        "branch_a_scores = [4, 5, 3, 4, 5, 4, 5, 3, 4, 4, 5, 4, 4, 3, 4, 5, 5, 4, 3, 4, 5, 4, 3, 5, 4, 4, 5, 3, 4, 5, 4]\n",
        "branch_b_scores = [3, 4, 2, 3, 4, 3, 4, 2, 3, 3, 4, 3, 3, 2, 3, 4, 4, 3, 2, 3, 4, 3, 2, 4, 3, 3, 4, 2, 3, 4, 3]\n",
        "\n",
        "# Analyze customer satisfaction scores\n",
        "analyze_satisfaction_scores(branch_a_scores, branch_b_scores)\n"
      ],
      "metadata": {
        "colab": {
          "base_uri": "https://localhost:8080/"
        },
        "id": "M8gROaISh1T4",
        "outputId": "dc61311b-bcc6-45bc-fd1a-4a0e2c21c003"
      },
      "execution_count": 33,
      "outputs": [
        {
          "output_type": "stream",
          "name": "stdout",
          "text": [
            "Branch A Mean Score: 4.13, Standard Deviation: 0.72\n",
            "Branch B Mean Score: 3.13, Standard Deviation: 0.72\n",
            "T-statistic: 5.4801\n",
            "Degrees of Freedom: 60\n",
            "P-value: 0.0000\n"
          ]
        },
        {
          "output_type": "execute_result",
          "data": {
            "text/plain": [
              "(5.480077554195743, 60, 8.895290509945655e-07)"
            ]
          },
          "metadata": {},
          "execution_count": 33
        }
      ]
    },
    {
      "cell_type": "markdown",
      "source": [
        "21) A political analyst wants to determine if there is a significant association between age groups and voter\n",
        "preferences (Candidate A or Candidate B). They collect data from a sample of 500 voters and classify\n",
        "them into different age groups and candidate preferences. Perform a Chi-Square test to determine if\n",
        "there is a significant association between age groups and voter preferences.\n",
        "\n",
        "\n",
        "Use the below code to generate data:\n",
        "\n",
        "```python\n",
        "\n",
        "np.random.seed(0)\n",
        "\n",
        "age_groups = np.random.choice([ 18 30 , 31 50 , 51+', 51+'], size=30)\n",
        "\n",
        "voter_preferences = np.random.choice(['Candidate A', 'Candidate B'], size=30)"
      ],
      "metadata": {
        "id": "Sk2O9DZjiA71"
      }
    },
    {
      "cell_type": "code",
      "source": [
        "import numpy as np\n",
        "import pandas as pd\n",
        "from scipy.stats import chi2_contingency\n",
        "\n",
        "# Generate data\n",
        "np.random.seed(0)\n",
        "\n",
        "age_groups = np.random.choice(['18-30', '31-50', '51+'], size=500)\n",
        "voter_preferences = np.random.choice(['Candidate A', 'Candidate B'], size=500)\n",
        "\n",
        "# Create a DataFrame\n",
        "data = pd.DataFrame({'Age Group': age_groups, 'Voter Preference': voter_preferences})\n",
        "\n",
        "# Create a contingency table\n",
        "contingency_table = pd.crosstab(data['Age Group'], data['Voter Preference'])\n",
        "\n",
        "# Perform Chi-Square test\n",
        "chi2_statistic, p_value, dof, expected = chi2_contingency(contingency_table)\n",
        "\n",
        "# Print results\n",
        "print(\"Contingency Table:\")\n",
        "print(contingency_table)\n",
        "print(\"\\nChi-Square Statistic:\", chi2_statistic)\n",
        "print(\"P-Value:\", p_value)\n",
        "print(\"Degrees of Freedom:\", dof)\n",
        "print(\"\\nExpected Frequencies:\")\n",
        "print(expected)\n",
        "\n",
        "# Interpretation\n",
        "alpha = 0.05\n",
        "if p_value < alpha:\n",
        "    print(\"\\nThere is a significant association between age groups and voter preferences (reject H0).\")\n",
        "else:\n",
        "    print(\"\\nThere is no significant association between age groups and voter preferences (fail to reject H0).\")\n"
      ],
      "metadata": {
        "colab": {
          "base_uri": "https://localhost:8080/"
        },
        "id": "W4SU7AhiiVTD",
        "outputId": "26486e04-c08b-48a2-a6ff-e9a6cca72900"
      },
      "execution_count": 34,
      "outputs": [
        {
          "output_type": "stream",
          "name": "stdout",
          "text": [
            "Contingency Table:\n",
            "Voter Preference  Candidate A  Candidate B\n",
            "Age Group                                 \n",
            "18-30                      95           87\n",
            "31-50                      87           82\n",
            "51+                        84           65\n",
            "\n",
            "Chi-Square Statistic: 0.8779923945254768\n",
            "P-Value: 0.6446832311860852\n",
            "Degrees of Freedom: 2\n",
            "\n",
            "Expected Frequencies:\n",
            "[[96.824 85.176]\n",
            " [89.908 79.092]\n",
            " [79.268 69.732]]\n",
            "\n",
            "There is no significant association between age groups and voter preferences (fail to reject H0).\n"
          ]
        }
      ]
    },
    {
      "cell_type": "markdown",
      "source": [
        " 22) A company conducted a customer satisfaction survey to determine if there is a significant relationship\n",
        "between product satisfaction levels (Satisfied, Neutral, Dissatisfied) and the region where customers are\n",
        "located (East, West, North, South). The survey data is summarized in a contingency table. Conduct a ChiSquare test to determine if there is a significant relationship between product satisfaction levels and\n",
        "customer regions.\n",
        "\n",
        "\n",
        "Sample data:\n",
        "\n",
        "```python\n",
        "\n",
        "#Sample data: Product satisfaction levels (rows) vs. Customer regions (columns)\n",
        "\n",
        "data = np.array([[50, 30, 40, 20], [30, 40, 30, 50], [20, 30, 40, 30]])"
      ],
      "metadata": {
        "id": "fmPdjHHdiX0G"
      }
    },
    {
      "cell_type": "code",
      "source": [
        "import numpy as np\n",
        "from scipy.stats import chi2_contingency\n",
        "\n",
        "# Sample data: Product satisfaction levels (rows) vs. Customer regions (columns)\n",
        "data = np.array([[50, 30, 40, 20],  # Satisfied\n",
        "                 [30, 40, 30, 50],  # Neutral\n",
        "                 [20, 30, 40, 30]])  # Dissatisfied\n",
        "\n",
        "# Perform Chi-Square test\n",
        "chi2_statistic, p_value, dof, expected = chi2_contingency(data)\n",
        "\n",
        "# Print results\n",
        "print(\"Contingency Table:\")\n",
        "print(data)\n",
        "print(\"\\nChi-Square Statistic:\", chi2_statistic)\n",
        "print(\"P-Value:\", p_value)\n",
        "print(\"Degrees of Freedom:\", dof)\n",
        "print(\"\\nExpected Frequencies:\")\n",
        "print(expected)\n",
        "\n",
        "# Interpretation\n",
        "alpha = 0.05\n",
        "if p_value < alpha:\n",
        "    print(\"\\nThere is a significant relationship between product satisfaction levels and customer regions (reject H0).\")\n",
        "else:\n",
        "    print(\"\\nThere is no significant relationship between product satisfaction levels and customer regions (fail to reject H0).\")\n"
      ],
      "metadata": {
        "colab": {
          "base_uri": "https://localhost:8080/"
        },
        "id": "-qLEgKYLifcE",
        "outputId": "02d69592-9268-4511-d0e5-01e83dcc5cc2"
      },
      "execution_count": 35,
      "outputs": [
        {
          "output_type": "stream",
          "name": "stdout",
          "text": [
            "Contingency Table:\n",
            "[[50 30 40 20]\n",
            " [30 40 30 50]\n",
            " [20 30 40 30]]\n",
            "\n",
            "Chi-Square Statistic: 27.777056277056275\n",
            "P-Value: 0.00010349448486004387\n",
            "Degrees of Freedom: 6\n",
            "\n",
            "Expected Frequencies:\n",
            "[[34.14634146 34.14634146 37.56097561 34.14634146]\n",
            " [36.58536585 36.58536585 40.24390244 36.58536585]\n",
            " [29.26829268 29.26829268 32.19512195 29.26829268]]\n",
            "\n",
            "There is a significant relationship between product satisfaction levels and customer regions (reject H0).\n"
          ]
        }
      ]
    },
    {
      "cell_type": "markdown",
      "source": [
        " 23) A company implemented an employee training program to improve job performance (Effective, Neutral,\n",
        "Ineffective). After the training, they collected data from a sample of employees and classified them based\n",
        "on their job performance before and after the training. Perform a Chi-Square test to determine if there is a\n",
        "significant difference between job performance levels before and after the training.\n",
        "\n",
        "\n",
        "Sample data:\n",
        "\n",
        "```python\n",
        "\n",
        "# Sample data: Job performance levels before (rows) and after (columns) training\n",
        "\n",
        "data = np.array([[50, 30, 20], [30, 40, 30], [20, 30, 40]])"
      ],
      "metadata": {
        "id": "e28IErAHitVC"
      }
    },
    {
      "cell_type": "code",
      "source": [
        "import numpy as np\n",
        "from scipy.stats import chi2_contingency\n",
        "\n",
        "# Sample data: Job performance levels before (rows) and after (columns) training\n",
        "data = np.array([[50, 30, 20],  # Before training: Effective, Neutral, Ineffective\n",
        "                 [30, 40, 30],  # After training: Effective, Neutral, Ineffective\n",
        "                 [20, 30, 40]]) # Further performance: Effective, Neutral, Ineffective\n",
        "\n",
        "# Perform Chi-Square test\n",
        "chi2_statistic, p_value, dof, expected = chi2_contingency(data)\n",
        "\n",
        "# Print results\n",
        "print(\"Contingency Table:\")\n",
        "print(data)\n",
        "print(\"\\nChi-Square Statistic:\", chi2_statistic)\n",
        "print(\"P-Value:\", p_value)\n",
        "print(\"Degrees of Freedom:\", dof)\n",
        "print(\"\\nExpected Frequencies:\")\n",
        "print(expected)\n",
        "\n",
        "# Interpretation\n",
        "alpha = 0.05\n",
        "if p_value < alpha:\n",
        "    print(\"\\nThere is a significant difference in job performance levels before and after training (reject H0).\")\n",
        "else:\n",
        "    print(\"\\nThere is no significant difference in job performance levels before and after training (fail to reject H0).\")\n"
      ],
      "metadata": {
        "colab": {
          "base_uri": "https://localhost:8080/"
        },
        "id": "w8vVj5yTiyHU",
        "outputId": "31ccd659-b4b0-4ba5-8106-5c3c84e1ce70"
      },
      "execution_count": 36,
      "outputs": [
        {
          "output_type": "stream",
          "name": "stdout",
          "text": [
            "Contingency Table:\n",
            "[[50 30 20]\n",
            " [30 40 30]\n",
            " [20 30 40]]\n",
            "\n",
            "Chi-Square Statistic: 22.161728395061726\n",
            "P-Value: 0.00018609719479882557\n",
            "Degrees of Freedom: 4\n",
            "\n",
            "Expected Frequencies:\n",
            "[[34.48275862 34.48275862 31.03448276]\n",
            " [34.48275862 34.48275862 31.03448276]\n",
            " [31.03448276 31.03448276 27.93103448]]\n",
            "\n",
            "There is a significant difference in job performance levels before and after training (reject H0).\n"
          ]
        }
      ]
    },
    {
      "cell_type": "markdown",
      "source": [
        " 24) A company produces three different versions of a product: Standard, Premium, and Deluxe. The\n",
        "company wants to determine if there is a significant difference in customer satisfaction scores among the\n",
        "three product versions. They conducted a survey and collected customer satisfaction scores for each\n",
        "version from a random sample of customers. Perform an ANOVA test to determine if there is a significant\n",
        "difference in customer satisfaction scores.\n",
        "\n",
        "\n",
        "  Use the following data:\n",
        "\n",
        "  ```python\n",
        "\n",
        "  # Sample data: Customer satisfaction scores for each product version\n",
        "\n",
        "  standard_scores = [80, 85, 90, 78, 88, 82, 92, 78, 85, 87]\n",
        "\n",
        "  premium_scores = [90, 92, 88, 92, 95, 91, 96, 93, 89, 93]\n",
        "\n",
        "  deluxe_scores = [95, 98, 92, 97, 96, 94, 98, 97, 92, 99]"
      ],
      "metadata": {
        "id": "-SRJkydGjA0W"
      }
    },
    {
      "cell_type": "code",
      "source": [
        "import numpy as np\n",
        "from scipy import stats\n",
        "\n",
        "# Sample data: Customer satisfaction scores for each product version\n",
        "standard_scores = [80, 85, 90, 78, 88, 82, 92, 78, 85, 87]\n",
        "premium_scores = [90, 92, 88, 92, 95, 91, 96, 93, 89, 93]\n",
        "deluxe_scores = [95, 98, 92, 97, 96, 94, 98, 97, 92, 99]\n",
        "\n",
        "# Perform ANOVA\n",
        "f_statistic, p_value = stats.f_oneway(standard_scores, premium_scores, deluxe_scores)\n",
        "\n",
        "# Print results\n",
        "print(\"F-Statistic:\", f_statistic)\n",
        "print(\"P-Value:\", p_value)\n",
        "\n",
        "# Interpretation\n",
        "alpha = 0.05\n",
        "if p_value < alpha:\n",
        "    print(\"\\nThere is a significant difference in customer satisfaction scores among the product versions (reject H0).\")\n",
        "else:\n",
        "    print(\"\\nThere is no significant difference in customer satisfaction scores among the product versions (fail to reject H0).\")\n"
      ],
      "metadata": {
        "colab": {
          "base_uri": "https://localhost:8080/"
        },
        "id": "Vd3wZ-qzjF2T",
        "outputId": "db1c6b7d-5d43-4db2-f76c-0fb7a51fa7f5"
      },
      "execution_count": 37,
      "outputs": [
        {
          "output_type": "stream",
          "name": "stdout",
          "text": [
            "F-Statistic: 27.03556231003039\n",
            "P-Value: 3.5786328857349003e-07\n",
            "\n",
            "There is a significant difference in customer satisfaction scores among the product versions (reject H0).\n"
          ]
        }
      ]
    }
  ]
}